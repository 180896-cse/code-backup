{
 "cells": [
  {
   "cell_type": "code",
   "execution_count": 1,
   "metadata": {},
   "outputs": [],
   "source": [
    "import numpy as np  # useful for many scientific computing in Python\n",
    "import pandas as pd # primary data structure library"
   ]
  },
  {
   "cell_type": "code",
   "execution_count": 5,
   "metadata": {},
   "outputs": [
    {
     "name": "stdout",
     "output_type": "stream",
     "text": [
      "Data read into a pandas dataframe!\n"
     ]
    }
   ],
   "source": [
    "df_survey = pd.read_csv('Data_Science_Topics_Survey.csv')\n",
    "\n",
    "print ('Data read into a pandas dataframe!')"
   ]
  },
  {
   "cell_type": "code",
   "execution_count": 6,
   "metadata": {},
   "outputs": [
    {
     "data": {
      "text/html": [
       "<div>\n",
       "<style scoped>\n",
       "    .dataframe tbody tr th:only-of-type {\n",
       "        vertical-align: middle;\n",
       "    }\n",
       "\n",
       "    .dataframe tbody tr th {\n",
       "        vertical-align: top;\n",
       "    }\n",
       "\n",
       "    .dataframe thead th {\n",
       "        text-align: right;\n",
       "    }\n",
       "</style>\n",
       "<table border=\"1\" class=\"dataframe\">\n",
       "  <thead>\n",
       "    <tr style=\"text-align: right;\">\n",
       "      <th></th>\n",
       "      <th>Timestamp</th>\n",
       "      <th>What's your level of interest for the following areas of Data Science? [Data Visualization]</th>\n",
       "      <th>What's your level of interest for the following areas of Data Science? [Machine Learning]</th>\n",
       "      <th>What's your level of interest for the following areas of Data Science? [Data Analysis / Statistics]</th>\n",
       "      <th>What's your level of interest for the following areas of Data Science? [Big Data (Spark / Hadoop)]</th>\n",
       "      <th>What's your level of interest for the following areas of Data Science? [Data Journalism]</th>\n",
       "      <th>What's your level of interest for the following areas of Data Science? [Deep Learning]</th>\n",
       "    </tr>\n",
       "  </thead>\n",
       "  <tbody>\n",
       "    <tr>\n",
       "      <th>0</th>\n",
       "      <td>2017/10/17 1:11:52 PM MDT</td>\n",
       "      <td>Very interested</td>\n",
       "      <td>Very interested</td>\n",
       "      <td>Somewhat interested</td>\n",
       "      <td>Not interested</td>\n",
       "      <td>Somewhat interested</td>\n",
       "      <td>Somewhat interested</td>\n",
       "    </tr>\n",
       "    <tr>\n",
       "      <th>1</th>\n",
       "      <td>2017/10/17 2:26:07 PM MDT</td>\n",
       "      <td>Very interested</td>\n",
       "      <td>Very interested</td>\n",
       "      <td>Very interested</td>\n",
       "      <td>Somewhat interested</td>\n",
       "      <td>Not interested</td>\n",
       "      <td>Very interested</td>\n",
       "    </tr>\n",
       "    <tr>\n",
       "      <th>2</th>\n",
       "      <td>2017/10/17 2:37:08 PM MDT</td>\n",
       "      <td>Not interested</td>\n",
       "      <td>Very interested</td>\n",
       "      <td>Somewhat interested</td>\n",
       "      <td>Very interested</td>\n",
       "      <td>Not interested</td>\n",
       "      <td>Very interested</td>\n",
       "    </tr>\n",
       "    <tr>\n",
       "      <th>3</th>\n",
       "      <td>2017/10/17 2:39:26 PM MDT</td>\n",
       "      <td>Very interested</td>\n",
       "      <td>Very interested</td>\n",
       "      <td>Very interested</td>\n",
       "      <td>Very interested</td>\n",
       "      <td>Somewhat interested</td>\n",
       "      <td>Very interested</td>\n",
       "    </tr>\n",
       "    <tr>\n",
       "      <th>4</th>\n",
       "      <td>2017/10/17 2:43:59 PM MDT</td>\n",
       "      <td>Somewhat interested</td>\n",
       "      <td>Very interested</td>\n",
       "      <td>Very interested</td>\n",
       "      <td>Very interested</td>\n",
       "      <td>Not interested</td>\n",
       "      <td>Somewhat interested</td>\n",
       "    </tr>\n",
       "  </tbody>\n",
       "</table>\n",
       "</div>"
      ],
      "text/plain": [
       "                   Timestamp  \\\n",
       "0  2017/10/17 1:11:52 PM MDT   \n",
       "1  2017/10/17 2:26:07 PM MDT   \n",
       "2  2017/10/17 2:37:08 PM MDT   \n",
       "3  2017/10/17 2:39:26 PM MDT   \n",
       "4  2017/10/17 2:43:59 PM MDT   \n",
       "\n",
       "  What's your level of interest for the following areas of Data Science? [Data Visualization]  \\\n",
       "0                                    Very interested                                            \n",
       "1                                    Very interested                                            \n",
       "2                                     Not interested                                            \n",
       "3                                    Very interested                                            \n",
       "4                                Somewhat interested                                            \n",
       "\n",
       "  What's your level of interest for the following areas of Data Science? [Machine Learning]  \\\n",
       "0                                    Very interested                                          \n",
       "1                                    Very interested                                          \n",
       "2                                    Very interested                                          \n",
       "3                                    Very interested                                          \n",
       "4                                    Very interested                                          \n",
       "\n",
       "  What's your level of interest for the following areas of Data Science? [Data Analysis / Statistics]  \\\n",
       "0                                Somewhat interested                                                    \n",
       "1                                    Very interested                                                    \n",
       "2                                Somewhat interested                                                    \n",
       "3                                    Very interested                                                    \n",
       "4                                    Very interested                                                    \n",
       "\n",
       "  What's your level of interest for the following areas of Data Science? [Big Data (Spark / Hadoop)]  \\\n",
       "0                                     Not interested                                                   \n",
       "1                                Somewhat interested                                                   \n",
       "2                                    Very interested                                                   \n",
       "3                                    Very interested                                                   \n",
       "4                                    Very interested                                                   \n",
       "\n",
       "  What's your level of interest for the following areas of Data Science? [Data Journalism]  \\\n",
       "0                                Somewhat interested                                         \n",
       "1                                     Not interested                                         \n",
       "2                                     Not interested                                         \n",
       "3                                Somewhat interested                                         \n",
       "4                                     Not interested                                         \n",
       "\n",
       "  What's your level of interest for the following areas of Data Science? [Deep Learning]  \n",
       "0                                Somewhat interested                                      \n",
       "1                                    Very interested                                      \n",
       "2                                    Very interested                                      \n",
       "3                                    Very interested                                      \n",
       "4                                Somewhat interested                                      "
      ]
     },
     "execution_count": 6,
     "metadata": {},
     "output_type": "execute_result"
    }
   ],
   "source": [
    "df_survey.head()"
   ]
  },
  {
   "cell_type": "code",
   "execution_count": 7,
   "metadata": {},
   "outputs": [
    {
     "name": "stdout",
     "output_type": "stream",
     "text": [
      "<class 'pandas.core.frame.DataFrame'>\n",
      "RangeIndex: 2233 entries, 0 to 2232\n",
      "Data columns (total 7 columns):\n",
      "Timestamp                                                                                              2233 non-null object\n",
      "What's your level of interest for the following areas of Data Science? [Data Visualization]            2176 non-null object\n",
      "What's your level of interest for the following areas of Data Science? [Machine Learning]              2180 non-null object\n",
      "What's your level of interest for the following areas of Data Science? [Data Analysis / Statistics]    2192 non-null object\n",
      "What's your level of interest for the following areas of Data Science? [Big Data (Spark / Hadoop)]     2188 non-null object\n",
      "What's your level of interest for the following areas of Data Science? [Data Journalism]               2120 non-null object\n",
      "What's your level of interest for the following areas of Data Science? [Deep Learning]                 2169 non-null object\n",
      "dtypes: object(7)\n",
      "memory usage: 122.2+ KB\n"
     ]
    }
   ],
   "source": [
    "df_survey.info()"
   ]
  },
  {
   "cell_type": "code",
   "execution_count": 9,
   "metadata": {},
   "outputs": [
    {
     "data": {
      "text/plain": [
       "array(['Timestamp',\n",
       "       \"What's your level of interest for the following areas of Data Science? [Data Visualization]\",\n",
       "       \"What's your level of interest for the following areas of Data Science? [Machine Learning]\",\n",
       "       \"What's your level of interest for the following areas of Data Science? [Data Analysis / Statistics]\",\n",
       "       \"What's your level of interest for the following areas of Data Science? [Big Data (Spark / Hadoop)]\",\n",
       "       \"What's your level of interest for the following areas of Data Science? [Data Journalism]\",\n",
       "       \"What's your level of interest for the following areas of Data Science? [Deep Learning]\"],\n",
       "      dtype=object)"
      ]
     },
     "execution_count": 9,
     "metadata": {},
     "output_type": "execute_result"
    }
   ],
   "source": [
    "df_survey.columns.values"
   ]
  },
  {
   "cell_type": "code",
   "execution_count": 10,
   "metadata": {},
   "outputs": [
    {
     "data": {
      "text/plain": [
       "array([   0,    1,    2, ..., 2230, 2231, 2232])"
      ]
     },
     "execution_count": 10,
     "metadata": {},
     "output_type": "execute_result"
    }
   ],
   "source": [
    "df_survey.index.values"
   ]
  },
  {
   "cell_type": "code",
   "execution_count": 12,
   "metadata": {},
   "outputs": [
    {
     "name": "stdout",
     "output_type": "stream",
     "text": [
      "<class 'pandas.core.indexes.base.Index'>\n",
      "<class 'pandas.core.indexes.range.RangeIndex'>\n"
     ]
    }
   ],
   "source": [
    "print(type(df_survey.columns))\n",
    "print(type(df_survey.index))"
   ]
  },
  {
   "cell_type": "code",
   "execution_count": 13,
   "metadata": {},
   "outputs": [
    {
     "name": "stdout",
     "output_type": "stream",
     "text": [
      "<class 'list'>\n",
      "<class 'list'>\n"
     ]
    }
   ],
   "source": [
    "df_survey.columns.tolist()\n",
    "df_survey.index.tolist()\n",
    "\n",
    "print (type(df_can.columns.tolist()))\n",
    "print (type(df_can.index.tolist()))"
   ]
  },
  {
   "cell_type": "code",
   "execution_count": 14,
   "metadata": {},
   "outputs": [
    {
     "data": {
      "text/plain": [
       "(2233, 7)"
      ]
     },
     "execution_count": 14,
     "metadata": {},
     "output_type": "execute_result"
    }
   ],
   "source": [
    "df_survey.shape"
   ]
  },
  {
   "cell_type": "code",
   "execution_count": null,
   "metadata": {},
   "outputs": [],
   "source": []
  },
  {
   "cell_type": "code",
   "execution_count": 27,
   "metadata": {},
   "outputs": [
    {
     "data": {
      "text/plain": [
       "Index(['Data Visualization', 'Machine Learning', 'Data Analysis / Statistics',\n",
       "       'Big Data (Spark / Hadoop', 'Data Journalism', 'Deep Learning'],\n",
       "      dtype='object')"
      ]
     },
     "execution_count": 27,
     "metadata": {},
     "output_type": "execute_result"
    }
   ],
   "source": [
    "df_survey.rename(columns={\"What's your level of interest for the following areas of Data Science? [Data Visualization]\":'Data Visualization'}, inplace=True)\n",
    "df_survey.columns"
   ]
  },
  {
   "cell_type": "code",
   "execution_count": 28,
   "metadata": {},
   "outputs": [
    {
     "data": {
      "text/plain": [
       "Index(['Timestamp', 'Data Visualization', 'Machine Learning',\n",
       "       'Data Analysis / Statistics', 'Big Data (Spark / Hadoop',\n",
       "       'Data Journalism', 'Deep Learning'],\n",
       "      dtype='object')"
      ]
     },
     "execution_count": 28,
     "metadata": {},
     "output_type": "execute_result"
    }
   ],
   "source": [
    "df_survey.rename(columns={\n",
    "    \"What's your level of interest for the following areas of Data Science? [Machine Learning]\":'Machine Learning',\n",
    "    \"What's your level of interest for the following areas of Data Science? [Data Analysis / Statistics]\":'Data Analysis / Statistics',\n",
    "    \"What's your level of interest for the following areas of Data Science? [Big Data (Spark / Hadoop)]\":'Big Data (Spark / Hadoop',\n",
    "    \"What's your level of interest for the following areas of Data Science? [Data Journalism]\":'Data Journalism',\n",
    "    \"What's your level of interest for the following areas of Data Science? [Deep Learning]\":'Deep Learning'\n",
    "    \n",
    "}, inplace=True)\n",
    "df_can.columns"
   ]
  },
  {
   "cell_type": "code",
   "execution_count": 29,
   "metadata": {},
   "outputs": [
    {
     "data": {
      "text/html": [
       "<div>\n",
       "<style scoped>\n",
       "    .dataframe tbody tr th:only-of-type {\n",
       "        vertical-align: middle;\n",
       "    }\n",
       "\n",
       "    .dataframe tbody tr th {\n",
       "        vertical-align: top;\n",
       "    }\n",
       "\n",
       "    .dataframe thead th {\n",
       "        text-align: right;\n",
       "    }\n",
       "</style>\n",
       "<table border=\"1\" class=\"dataframe\">\n",
       "  <thead>\n",
       "    <tr style=\"text-align: right;\">\n",
       "      <th></th>\n",
       "      <th>Data Visualization</th>\n",
       "      <th>Machine Learning</th>\n",
       "      <th>Data Analysis / Statistics</th>\n",
       "      <th>Big Data (Spark / Hadoop</th>\n",
       "      <th>Data Journalism</th>\n",
       "      <th>Deep Learning</th>\n",
       "    </tr>\n",
       "  </thead>\n",
       "  <tbody>\n",
       "    <tr>\n",
       "      <th>count</th>\n",
       "      <td>2176</td>\n",
       "      <td>2180</td>\n",
       "      <td>2192</td>\n",
       "      <td>2188</td>\n",
       "      <td>2120</td>\n",
       "      <td>2169</td>\n",
       "    </tr>\n",
       "    <tr>\n",
       "      <th>unique</th>\n",
       "      <td>3</td>\n",
       "      <td>3</td>\n",
       "      <td>3</td>\n",
       "      <td>3</td>\n",
       "      <td>3</td>\n",
       "      <td>3</td>\n",
       "    </tr>\n",
       "    <tr>\n",
       "      <th>top</th>\n",
       "      <td>Very interested</td>\n",
       "      <td>Very interested</td>\n",
       "      <td>Very interested</td>\n",
       "      <td>Very interested</td>\n",
       "      <td>Somewhat interested</td>\n",
       "      <td>Very interested</td>\n",
       "    </tr>\n",
       "    <tr>\n",
       "      <th>freq</th>\n",
       "      <td>1340</td>\n",
       "      <td>1629</td>\n",
       "      <td>1688</td>\n",
       "      <td>1332</td>\n",
       "      <td>1081</td>\n",
       "      <td>1263</td>\n",
       "    </tr>\n",
       "  </tbody>\n",
       "</table>\n",
       "</div>"
      ],
      "text/plain": [
       "       Data Visualization Machine Learning Data Analysis / Statistics  \\\n",
       "count                2176             2180                       2192   \n",
       "unique                  3                3                          3   \n",
       "top       Very interested  Very interested            Very interested   \n",
       "freq                 1340             1629                       1688   \n",
       "\n",
       "       Big Data (Spark / Hadoop      Data Journalism    Deep Learning  \n",
       "count                      2188                 2120             2169  \n",
       "unique                        3                    3                3  \n",
       "top             Very interested  Somewhat interested  Very interested  \n",
       "freq                       1332                 1081             1263  "
      ]
     },
     "execution_count": 29,
     "metadata": {},
     "output_type": "execute_result"
    }
   ],
   "source": [
    "df_survey.describe()"
   ]
  },
  {
   "cell_type": "code",
   "execution_count": 30,
   "metadata": {},
   "outputs": [
    {
     "data": {
      "text/html": [
       "<div>\n",
       "<style scoped>\n",
       "    .dataframe tbody tr th:only-of-type {\n",
       "        vertical-align: middle;\n",
       "    }\n",
       "\n",
       "    .dataframe tbody tr th {\n",
       "        vertical-align: top;\n",
       "    }\n",
       "\n",
       "    .dataframe thead th {\n",
       "        text-align: right;\n",
       "    }\n",
       "</style>\n",
       "<table border=\"1\" class=\"dataframe\">\n",
       "  <thead>\n",
       "    <tr style=\"text-align: right;\">\n",
       "      <th></th>\n",
       "      <th>Data Visualization</th>\n",
       "      <th>Machine Learning</th>\n",
       "      <th>Data Analysis / Statistics</th>\n",
       "      <th>Big Data (Spark / Hadoop</th>\n",
       "      <th>Data Journalism</th>\n",
       "      <th>Deep Learning</th>\n",
       "    </tr>\n",
       "  </thead>\n",
       "  <tbody>\n",
       "    <tr>\n",
       "      <th>0</th>\n",
       "      <td>Very interested</td>\n",
       "      <td>Very interested</td>\n",
       "      <td>Somewhat interested</td>\n",
       "      <td>Not interested</td>\n",
       "      <td>Somewhat interested</td>\n",
       "      <td>Somewhat interested</td>\n",
       "    </tr>\n",
       "    <tr>\n",
       "      <th>1</th>\n",
       "      <td>Very interested</td>\n",
       "      <td>Very interested</td>\n",
       "      <td>Very interested</td>\n",
       "      <td>Somewhat interested</td>\n",
       "      <td>Not interested</td>\n",
       "      <td>Very interested</td>\n",
       "    </tr>\n",
       "    <tr>\n",
       "      <th>2</th>\n",
       "      <td>Not interested</td>\n",
       "      <td>Very interested</td>\n",
       "      <td>Somewhat interested</td>\n",
       "      <td>Very interested</td>\n",
       "      <td>Not interested</td>\n",
       "      <td>Very interested</td>\n",
       "    </tr>\n",
       "    <tr>\n",
       "      <th>3</th>\n",
       "      <td>Very interested</td>\n",
       "      <td>Very interested</td>\n",
       "      <td>Very interested</td>\n",
       "      <td>Very interested</td>\n",
       "      <td>Somewhat interested</td>\n",
       "      <td>Very interested</td>\n",
       "    </tr>\n",
       "    <tr>\n",
       "      <th>4</th>\n",
       "      <td>Somewhat interested</td>\n",
       "      <td>Very interested</td>\n",
       "      <td>Very interested</td>\n",
       "      <td>Very interested</td>\n",
       "      <td>Not interested</td>\n",
       "      <td>Somewhat interested</td>\n",
       "    </tr>\n",
       "  </tbody>\n",
       "</table>\n",
       "</div>"
      ],
      "text/plain": [
       "    Data Visualization Machine Learning Data Analysis / Statistics  \\\n",
       "0      Very interested  Very interested        Somewhat interested   \n",
       "1      Very interested  Very interested            Very interested   \n",
       "2       Not interested  Very interested        Somewhat interested   \n",
       "3      Very interested  Very interested            Very interested   \n",
       "4  Somewhat interested  Very interested            Very interested   \n",
       "\n",
       "  Big Data (Spark / Hadoop      Data Journalism        Deep Learning  \n",
       "0           Not interested  Somewhat interested  Somewhat interested  \n",
       "1      Somewhat interested       Not interested      Very interested  \n",
       "2          Very interested       Not interested      Very interested  \n",
       "3          Very interested  Somewhat interested      Very interested  \n",
       "4          Very interested       Not interested  Somewhat interested  "
      ]
     },
     "execution_count": 30,
     "metadata": {},
     "output_type": "execute_result"
    }
   ],
   "source": [
    "df_survey.head()"
   ]
  },
  {
   "cell_type": "code",
   "execution_count": null,
   "metadata": {},
   "outputs": [],
   "source": []
  }
 ],
 "metadata": {
  "kernelspec": {
   "display_name": "Python 3",
   "language": "python",
   "name": "python3"
  },
  "language_info": {
   "codemirror_mode": {
    "name": "ipython",
    "version": 3
   },
   "file_extension": ".py",
   "mimetype": "text/x-python",
   "name": "python",
   "nbconvert_exporter": "python",
   "pygments_lexer": "ipython3",
   "version": "3.7.0"
  }
 },
 "nbformat": 4,
 "nbformat_minor": 2
}

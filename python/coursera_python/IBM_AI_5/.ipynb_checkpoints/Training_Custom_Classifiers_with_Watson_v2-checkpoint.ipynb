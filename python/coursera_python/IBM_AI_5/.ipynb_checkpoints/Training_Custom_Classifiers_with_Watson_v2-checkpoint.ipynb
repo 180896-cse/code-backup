{
 "cells": [
  {
   "cell_type": "markdown",
   "metadata": {},
   "source": [
    "<a href=\"https://cognitiveclass.ai/\">\n",
    "    <img src=\"https://s3-api.us-geo.objectstorage.softlayer.net/cf-courses-data/CognitiveClass/CV0101/Logo/SNLogo.png\" width=\"200\" align=\"center\">\n",
    "</a>"
   ]
  },
  {
   "cell_type": "markdown",
   "metadata": {},
   "source": [
    "<h1>Lab - Training Custom Classifiers with IBM Watson Visual Recognition in Python</h1>\n",
    "\n",
    "<h2>Introduction</h2>\n",
    "\n",
    "<p><b>Welcome!</b> This notebook how to operate the Watson Visual Recognition API using the Python Programming Language. The advantage of using the Watson Visual Recognition API over the Graphic User Interface on the Browser that you did earlier in this course is because you can automate the training, and testing of your Visual Recognition model.</p>\n",
    "\n",
    "<p>In this lab you will be training a Visual Recognition model that classify different kinds of dogs by running python code.</p>"
   ]
  },
  {
   "cell_type": "markdown",
   "metadata": {},
   "source": [
    "<div class=\"alert alert-block alert-info\" style=\"margin-top: 20px\">\n",
    "<font size=\"3\"><strong>Click on the links to go to the following sections:</strong></font>\n",
    "<br>\n",
    "<h2>Table of Contents</h2>\n",
    "<ol>\n",
    "    <li><a href=\"#ref1\">IBM Watson Package</a></li>\n",
    "    <li><a href=\"#ref2\">Setting the API key for IBM Watson Visual Recognition</a></li>\n",
    "    <li><a href=\"#ref3\">Training the Classifier</a></li>\n",
    "    <li><a href=\"#ref4\">Testing the Classifier</a></li>\n",
    "    <li><a href=\"#ref5\">Exercises</a></li>\n",
    "</ol>    \n",
    "</div>"
   ]
  },
  {
   "cell_type": "markdown",
   "metadata": {},
   "source": [
    "<a id=\"ref1\"></a>\n",
    "<h2>IBM Watson Package</h2>\n",
    "In order to run this lab we need to import the following package.\n",
    "<ul>\n",
    "    <li>IBM Watson: which allows access to the Watson Visual Recognition API</li>\n",
    "</ul>\n",
    "The code below will install IBM Watson. \n",
    "\n",
    "To run, click on the code cell below and press \"shift + enter\".\n",
    "\n",
    "<b>NOTE - The Watson Devloper Cloud Package has been deprecated and has been replaced by the IBM Watson Package </b>"
   ]
  },
  {
   "cell_type": "code",
   "execution_count": 1,
   "metadata": {},
   "outputs": [
    {
     "name": "stdout",
     "output_type": "stream",
     "text": [
      "Requirement already up-to-date: ibm-watson in /home/jupyterlab/conda/envs/python/lib/python3.6/site-packages (4.1.0)\n",
      "Requirement already satisfied, skipping upgrade: websocket-client==0.48.0 in /home/jupyterlab/conda/envs/python/lib/python3.6/site-packages (from ibm-watson) (0.48.0)\n",
      "Requirement already satisfied, skipping upgrade: python-dateutil>=2.5.3 in /home/jupyterlab/conda/envs/python/lib/python3.6/site-packages (from ibm-watson) (2.8.1)\n",
      "Requirement already satisfied, skipping upgrade: ibm-cloud-sdk-core==1.0.0 in /home/jupyterlab/conda/envs/python/lib/python3.6/site-packages (from ibm-watson) (1.0.0)\n",
      "Requirement already satisfied, skipping upgrade: requests<3.0,>=2.0 in /home/jupyterlab/conda/envs/python/lib/python3.6/site-packages (from ibm-watson) (2.22.0)\n",
      "Requirement already satisfied, skipping upgrade: six in /home/jupyterlab/conda/envs/python/lib/python3.6/site-packages (from websocket-client==0.48.0->ibm-watson) (1.13.0)\n",
      "Requirement already satisfied, skipping upgrade: PyJWT>=1.7.1 in /home/jupyterlab/conda/envs/python/lib/python3.6/site-packages (from ibm-cloud-sdk-core==1.0.0->ibm-watson) (1.7.1)\n",
      "Requirement already satisfied, skipping upgrade: urllib3!=1.25.0,!=1.25.1,<1.26,>=1.21.1 in /home/jupyterlab/conda/envs/python/lib/python3.6/site-packages (from requests<3.0,>=2.0->ibm-watson) (1.25.7)\n",
      "Requirement already satisfied, skipping upgrade: chardet<3.1.0,>=3.0.2 in /home/jupyterlab/conda/envs/python/lib/python3.6/site-packages (from requests<3.0,>=2.0->ibm-watson) (3.0.4)\n",
      "Requirement already satisfied, skipping upgrade: idna<2.9,>=2.5 in /home/jupyterlab/conda/envs/python/lib/python3.6/site-packages (from requests<3.0,>=2.0->ibm-watson) (2.8)\n",
      "Requirement already satisfied, skipping upgrade: certifi>=2017.4.17 in /home/jupyterlab/conda/envs/python/lib/python3.6/site-packages (from requests<3.0,>=2.0->ibm-watson) (2019.9.11)\n"
     ]
    }
   ],
   "source": [
    "!pip install --upgrade ibm-watson"
   ]
  },
  {
   "cell_type": "markdown",
   "metadata": {},
   "source": [
    "<h3>Goal of this lab:</h3>"
   ]
  },
  {
   "cell_type": "markdown",
   "metadata": {},
   "source": [
    "<p>In this lab, we will be creating a completely new image classifier using training images. We will train a custom classifer to identify between three different dog breeds (Golden Retriever, Beagle and Husky).</p>"
   ]
  },
  {
   "cell_type": "markdown",
   "metadata": {},
   "source": [
    "<img src=\"https://s3-api.us-geo.objectstorage.softlayer.net/cf-courses-data/CognitiveClass/CV0101/Images/dog-breed.png\" width=\"480\"/>"
   ]
  },
  {
   "cell_type": "markdown",
   "metadata": {},
   "source": [
    "<a id=\"ref2\"></a>\n",
    "<h2>Setting the API key for IBM Watson Visual Recognition</h2>\n",
    "\n",
    "<p>In order for you to use the IBM Watson Visual Recognition API, you will need the API key of the Visual Recognition instance that you have created in the previous sections.</p>\n",
    "\n",
    "<p>Log into your IBM Cloud Account with the following link.</p> <a href=\"https://cocl.us/CV0101EN_IBM_Cloud_Login\">https://cloud.ibm.com</a>\n",
    "<ol>\n",
    "    <li>Click on <b>Services</b></li>\n",
    "    <li>Under Services, click on your Watson Visual Recognition Instance</li>\n",
    "    <li>Copy the <b>API Key</b> and past it in the code cell below</li>\n",
    "    <img src=\"https://s3-api.us-geo.objectstorage.softlayer.net/cf-courses-data/CognitiveClass/CV0101/Images/API_Key.png\" width=\"680\">\n",
    "    <li>Then press \"ctrl + enter\" to run the code cell.</li>\n",
    "</ol>"
   ]
  },
  {
   "cell_type": "code",
   "execution_count": 2,
   "metadata": {},
   "outputs": [],
   "source": [
    "# Paste your API key for IBM Watson Visual Recognition below:\n",
    "my_apikey = ''"
   ]
  },
  {
   "cell_type": "markdown",
   "metadata": {},
   "source": [
    "<h4>Initialize Watson Visual Recognition</h4>\n",
    "Lets create your own Watson Visual Recognition instance, it will allow you to make calls to the Watson Visual Recognition API."
   ]
  },
  {
   "cell_type": "code",
   "execution_count": 3,
   "metadata": {},
   "outputs": [],
   "source": [
    "from ibm_watson import VisualRecognitionV3\n",
    "from ibm_cloud_sdk_core.authenticators import IAMAuthenticator\n",
    "authenticator = IAMAuthenticator(my_apikey)\n",
    "\n",
    "visrec = VisualRecognitionV3('2018-03-19', \n",
    "                             authenticator=authenticator)\n"
   ]
  },
  {
   "cell_type": "markdown",
   "metadata": {},
   "source": [
    "<p>We are goint to train an Image Recognition model to classify different types of dog. The dataset that we are goint to use are the zip files that we use below</p>"
   ]
  },
  {
   "cell_type": "markdown",
   "metadata": {},
   "source": [
    "<ul>\n",
    "    <li>beagle.zip</li>\n",
    "    <li>husky.zip</li>\n",
    "    <li>golden-retriever.zip</li>\n",
    "</ul>"
   ]
  },
  {
   "cell_type": "markdown",
   "metadata": {},
   "source": [
    "<a id=\"ref3\"></a>\n",
    "<h2>Training Classifier</h2>"
   ]
  },
  {
   "cell_type": "markdown",
   "metadata": {},
   "source": [
    "<h4>Download the differerent breed of dog images as zip files</h4>\n",
    "<p>We will use the <b>urlretrieve</b> method from the <b>urllib.request</b> library to download the dataset above.</p> "
   ]
  },
  {
   "cell_type": "code",
   "execution_count": 4,
   "metadata": {},
   "outputs": [
    {
     "data": {
      "text/plain": [
       "('goldenretriever.zip', <http.client.HTTPMessage at 0x7f86cf4a04a8>)"
      ]
     },
     "execution_count": 4,
     "metadata": {},
     "output_type": "execute_result"
    }
   ],
   "source": [
    "import urllib.request\n",
    "\n",
    "# Downloading Beagle dataset\n",
    "urllib.request.urlretrieve(\"http://s3-api.us-geo.objectstorage.softlayer.net/cf-courses-data/CognitiveClass/CV0101/Dataset/Beagle.zip\", \n",
    "                           \"beagle.zip\")\n",
    "\n",
    "# Downloading Husky dataset\n",
    "urllib.request.urlretrieve(\"http://s3-api.us-geo.objectstorage.softlayer.net/cf-courses-data/CognitiveClass/CV0101/Dataset/Husky.zip\", \n",
    "                           \"husky.zip\")\n",
    "\n",
    "# Downloading Golden Retriever dataset\n",
    "urllib.request.urlretrieve(\"http://s3-api.us-geo.objectstorage.softlayer.net/cf-courses-data/CognitiveClass/CV0101/Dataset/GoldenRetriever.zip\", \n",
    "                           \"goldenretriever.zip\") #note that we should remove any hyphens from the zip file name"
   ]
  },
  {
   "cell_type": "markdown",
   "metadata": {},
   "source": [
    "<p>Lets train our Visual Recognition model to recognize the three breeds of dogs using the <b>create_classifier</b> method from the Watson Image Reconition API.</p>"
   ]
  },
  {
   "cell_type": "code",
   "execution_count": 5,
   "metadata": {},
   "outputs": [
    {
     "name": "stdout",
     "output_type": "stream",
     "text": [
      "{\n",
      "  \"classifier_id\": \"dogbreedclassifier_974757226\",\n",
      "  \"name\": \"dogbreedclassifier\",\n",
      "  \"status\": \"training\",\n",
      "  \"owner\": \"18e2eb03-8638-45df-992b-17c338278724\",\n",
      "  \"created\": \"2019-12-21T17:27:48.074Z\",\n",
      "  \"updated\": \"2019-12-21T17:27:48.074Z\",\n",
      "  \"classes\": [\n",
      "    {\n",
      "      \"class\": \"husky\"\n",
      "    },\n",
      "    {\n",
      "      \"class\": \"goldenretriever\"\n",
      "    },\n",
      "    {\n",
      "      \"class\": \"beagle\"\n",
      "    }\n",
      "  ],\n",
      "  \"core_ml_enabled\": true\n",
      "}\n"
     ]
    }
   ],
   "source": [
    "import json\n",
    "with open('beagle.zip', 'rb') as beagle, \\\n",
    "     open('goldenretriever.zip', 'rb') as gretriever, \\\n",
    "     open('husky.zip', 'rb') as husky:\n",
    "        response = visrec.create_classifier(name=\"dogbreedclassifier\",\n",
    "                                        positive_examples={'beagle': beagle, \\\n",
    "                                                           'goldenretriever': gretriever, \\\n",
    "                                                           'husky': husky})\n",
    "print(json.dumps(response.get_result(), indent=2))"
   ]
  },
  {
   "cell_type": "code",
   "execution_count": 6,
   "metadata": {},
   "outputs": [],
   "source": [
    "#lets grab the classifier id\n",
    "classifier_id = response.get_result()[\"classifier_id\"]"
   ]
  },
  {
   "cell_type": "markdown",
   "metadata": {},
   "source": [
    "<div style=\"background-color: #fcf2f2\">\n",
    "    <h2>Note!</h2> \n",
    "    <p>If you receive the following error.</p>\n",
    "    <img src=\"https://s3-api.us-geo.objectstorage.softlayer.net/cf-courses-data/CognitiveClass/CV0101/Images/Error-Code.png\" width=\"1080\">\n",
    "    <p>It means that you have more than 1 Visual Recognition Instances running on your lite plan, and the lite plan only allows for no more than 2 Visual Recognition instances. So you might want to delete one of your custom classifier in your Watson Visual Recognition Instance.</p>\n",
    "        <p>Log into your IBM Cloud Account with the following link.</p> <p><a href=\"https://cocl.us/CV0101EN_IBM_Cloud_Login\">https://cloud.ibm.com</a></p>\n",
    "    <ol>\n",
    "        <li>Click on <b>Services</b></li>\n",
    "        <li>Under Services, click on your Watson Visual Recognition Instance</li>\n",
    "        <li>Then click on Create a Custom Model</li>\n",
    "        <li>Then delete one of your Custom Visual Recognition Model</li>\n",
    "    </ol>\n",
    "    <img src=\"https://s3-api.us-geo.objectstorage.softlayer.net/cf-courses-data/CognitiveClass/CV0101/Images/Delete-Instance.png\" width=\"680\">\n",
    "</div>\n",
    " "
   ]
  },
  {
   "cell_type": "markdown",
   "metadata": {},
   "source": [
    "<h4>Is the model still training?</h4>\n",
    "Depending on the number of images, it may take a several minutes for Watson to build a custom classifier."
   ]
  },
  {
   "cell_type": "code",
   "execution_count": 13,
   "metadata": {},
   "outputs": [
    {
     "data": {
      "text/plain": [
       "'ready'"
      ]
     },
     "execution_count": 13,
     "metadata": {},
     "output_type": "execute_result"
    }
   ],
   "source": [
    "visrec.get_classifier(classifier_id=classifier_id, verbose=True).get_result()['status']"
   ]
  },
  {
   "cell_type": "markdown",
   "metadata": {},
   "source": [
    "<h4>List all (custom) classifiers</h4>"
   ]
  },
  {
   "cell_type": "markdown",
   "metadata": {},
   "source": [
    "<h4>If the status is still training, please rerun the above cell and wait until you see ready</h4> "
   ]
  },
  {
   "cell_type": "code",
   "execution_count": 14,
   "metadata": {},
   "outputs": [
    {
     "data": {
      "text/plain": [
       "{'classifiers': [{'classifier_id': 'DefaultCustomModel_1306890053',\n",
       "   'name': 'Default Custom Model',\n",
       "   'status': 'ready',\n",
       "   'owner': '18e2eb03-8638-45df-992b-17c338278724',\n",
       "   'created': '2019-12-21T16:13:27.255Z',\n",
       "   'updated': '2019-12-21T16:13:27.255Z',\n",
       "   'classes': [{'class': 'GoldenRetriever'},\n",
       "    {'class': 'Beagle'},\n",
       "    {'class': 'Husky'}],\n",
       "   'core_ml_enabled': True},\n",
       "  {'classifier_id': 'dogbreedclassifier_974757226',\n",
       "   'name': 'dogbreedclassifier',\n",
       "   'status': 'ready',\n",
       "   'owner': '18e2eb03-8638-45df-992b-17c338278724',\n",
       "   'created': '2019-12-21T17:27:48.074Z',\n",
       "   'updated': '2019-12-21T17:27:48.074Z',\n",
       "   'classes': [{'class': 'husky'},\n",
       "    {'class': 'goldenretriever'},\n",
       "    {'class': 'beagle'}],\n",
       "   'core_ml_enabled': True}]}"
      ]
     },
     "execution_count": 14,
     "metadata": {},
     "output_type": "execute_result"
    }
   ],
   "source": [
    "visrec.list_classifiers(verbose=True).get_result()"
   ]
  },
  {
   "cell_type": "markdown",
   "metadata": {},
   "source": [
    "<a id=\"ref4\"></a>\n",
    "<h2>Testing Classifier</h2>\n",
    "<p>Lets test the classifier, the function <b>getdf_visrec</b> below uses the method <b>classify</b> from Watson Visual Recognition API to upload the image to the classifier and give us a result in JSON(JavaScript Object Notation) format. Then we use the method <b>json_normalize</b> from the \"Pandas\" library in Python to turn the result into a table because it is more human readable.</p>"
   ]
  },
  {
   "cell_type": "code",
   "execution_count": 15,
   "metadata": {},
   "outputs": [],
   "source": [
    "from pandas.io.json import json_normalize\n",
    "\n",
    "def getdf_visrec(url, classifier_ids, apikey = my_apikey):\n",
    "    \n",
    "    json_result = visrec.classify(url=url,\n",
    "                              threshold='0.6',\n",
    "                              classifier_ids=classifier_ids).get_result()\n",
    "    \n",
    "    json_classes = json_result['images'][0]['classifiers'][0]['classes']\n",
    "    \n",
    "    df = json_normalize(json_classes).sort_values('score', ascending=False).reset_index(drop=True)\n",
    "    \n",
    "    return df"
   ]
  },
  {
   "cell_type": "markdown",
   "metadata": {},
   "source": [
    "<img src=\"https://s3-api.us-geo.objectstorage.softlayer.net/cf-courses-data/CognitiveClass/CV0101/Dataset/GoldenRetriever1_stacked.jpg\">\n",
    "<p>Lets test our Visual Recognition model on this picture of Golden Retriever</p>"
   ]
  },
  {
   "cell_type": "markdown",
   "metadata": {},
   "source": [
    "<p>Please wait for your Custom Model to finish training before you upload your test image to your Custom Classifier, you might get an error if your model is still training and you run the function below.</p>\n",
    "<img src=\"https://s3-api.us-geo.objectstorage.softlayer.net/cf-courses-data/CognitiveClass/CV0101/Images/Training.png\" width=\"680\">"
   ]
  },
  {
   "cell_type": "code",
   "execution_count": 16,
   "metadata": {},
   "outputs": [
    {
     "data": {
      "text/html": [
       "<div>\n",
       "<style scoped>\n",
       "    .dataframe tbody tr th:only-of-type {\n",
       "        vertical-align: middle;\n",
       "    }\n",
       "\n",
       "    .dataframe tbody tr th {\n",
       "        vertical-align: top;\n",
       "    }\n",
       "\n",
       "    .dataframe thead th {\n",
       "        text-align: right;\n",
       "    }\n",
       "</style>\n",
       "<table border=\"1\" class=\"dataframe\">\n",
       "  <thead>\n",
       "    <tr style=\"text-align: right;\">\n",
       "      <th></th>\n",
       "      <th>class</th>\n",
       "      <th>score</th>\n",
       "    </tr>\n",
       "  </thead>\n",
       "  <tbody>\n",
       "    <tr>\n",
       "      <th>0</th>\n",
       "      <td>goldenretriever</td>\n",
       "      <td>0.908</td>\n",
       "    </tr>\n",
       "  </tbody>\n",
       "</table>\n",
       "</div>"
      ],
      "text/plain": [
       "             class  score\n",
       "0  goldenretriever  0.908"
      ]
     },
     "execution_count": 16,
     "metadata": {},
     "output_type": "execute_result"
    }
   ],
   "source": [
    "getdf_visrec(url = 'http://s3-api.us-geo.objectstorage.softlayer.net/cf-courses-data/CognitiveClass/CV0101/Dataset/GoldenRetriever1_stacked.jpg',\n",
    "            classifier_ids=classifier_id)"
   ]
  },
  {
   "cell_type": "markdown",
   "metadata": {},
   "source": [
    "<img src=\"https://s3-api.us-geo.objectstorage.softlayer.net/cf-courses-data/CognitiveClass/CV0101/Dataset/cat-2083492_960_720.jpg\">\n",
    "<p>Lets test our Visual Recognition model on this picture of cat</p>"
   ]
  },
  {
   "cell_type": "code",
   "execution_count": 17,
   "metadata": {},
   "outputs": [
    {
     "data": {
      "text/html": [
       "<div>\n",
       "<style scoped>\n",
       "    .dataframe tbody tr th:only-of-type {\n",
       "        vertical-align: middle;\n",
       "    }\n",
       "\n",
       "    .dataframe tbody tr th {\n",
       "        vertical-align: top;\n",
       "    }\n",
       "\n",
       "    .dataframe thead th {\n",
       "        text-align: right;\n",
       "    }\n",
       "</style>\n",
       "<table border=\"1\" class=\"dataframe\">\n",
       "  <thead>\n",
       "    <tr style=\"text-align: right;\">\n",
       "      <th></th>\n",
       "      <th>class</th>\n",
       "      <th>score</th>\n",
       "    </tr>\n",
       "  </thead>\n",
       "  <tbody>\n",
       "    <tr>\n",
       "      <th>0</th>\n",
       "      <td>husky</td>\n",
       "      <td>0.821</td>\n",
       "    </tr>\n",
       "  </tbody>\n",
       "</table>\n",
       "</div>"
      ],
      "text/plain": [
       "   class  score\n",
       "0  husky  0.821"
      ]
     },
     "execution_count": 17,
     "metadata": {},
     "output_type": "execute_result"
    }
   ],
   "source": [
    "getdf_visrec(url = 'http://s3-api.us-geo.objectstorage.softlayer.net/cf-courses-data/CognitiveClass/CV0101/Dataset/cat-2083492_960_720.jpg',\n",
    "            classifier_ids=classifier_id)"
   ]
  },
  {
   "cell_type": "markdown",
   "metadata": {},
   "source": [
    "<p>Our model will mis-classify the cat in the picture because our custom visual recognition model is only trained for recognizing different breeds of dogs.</p>"
   ]
  },
  {
   "cell_type": "markdown",
   "metadata": {},
   "source": [
    "<h4>Delete all classifiers</h4>\n",
    "<p>If you want to delete you classifiers, lets get the classifier id tht you want to delete. The method <b>list_classifiers</b> from Watson Visual Recognition API list all the classifier in your IBM Cloud account.</p>"
   ]
  },
  {
   "cell_type": "code",
   "execution_count": 18,
   "metadata": {},
   "outputs": [
    {
     "name": "stdout",
     "output_type": "stream",
     "text": [
      "[\n",
      "  {\n",
      "    \"classifier_id\": \"dogbreedclassifier_974757226\",\n",
      "    \"name\": \"dogbreedclassifier\",\n",
      "    \"status\": \"ready\",\n",
      "    \"owner\": \"18e2eb03-8638-45df-992b-17c338278724\",\n",
      "    \"created\": \"2019-12-21T17:27:48.074Z\",\n",
      "    \"updated\": \"2019-12-21T17:27:48.074Z\",\n",
      "    \"classes\": [\n",
      "      {\n",
      "        \"class\": \"husky\"\n",
      "      },\n",
      "      {\n",
      "        \"class\": \"goldenretriever\"\n",
      "      },\n",
      "      {\n",
      "        \"class\": \"beagle\"\n",
      "      }\n",
      "    ],\n",
      "    \"core_ml_enabled\": true\n",
      "  },\n",
      "  {\n",
      "    \"classifier_id\": \"DefaultCustomModel_1306890053\",\n",
      "    \"name\": \"Default Custom Model\",\n",
      "    \"status\": \"ready\",\n",
      "    \"owner\": \"18e2eb03-8638-45df-992b-17c338278724\",\n",
      "    \"created\": \"2019-12-21T16:13:27.255Z\",\n",
      "    \"updated\": \"2019-12-21T16:13:27.255Z\",\n",
      "    \"classes\": [\n",
      "      {\n",
      "        \"class\": \"GoldenRetriever\"\n",
      "      },\n",
      "      {\n",
      "        \"class\": \"Beagle\"\n",
      "      },\n",
      "      {\n",
      "        \"class\": \"Husky\"\n",
      "      }\n",
      "    ],\n",
      "    \"core_ml_enabled\": true\n",
      "  }\n",
      "]\n"
     ]
    }
   ],
   "source": [
    "import json\n",
    "\n",
    "classifiers = visrec.list_classifiers(verbose=True).get_result()['classifiers']\n",
    "print(json.dumps(classifiers, indent=2))"
   ]
  },
  {
   "cell_type": "markdown",
   "metadata": {},
   "source": [
    "Just paste your classifier id and it will be deleted"
   ]
  },
  {
   "cell_type": "code",
   "execution_count": 19,
   "metadata": {},
   "outputs": [
    {
     "data": {
      "text/plain": [
       "<ibm_cloud_sdk_core.detailed_response.DetailedResponse at 0x7f86cd192a20>"
      ]
     },
     "execution_count": 19,
     "metadata": {},
     "output_type": "execute_result"
    }
   ],
   "source": [
    "mycid = 'DefaultCustomModel_1306890053' #the classifier id you want to delete\n",
    "visrec.delete_classifier(classifier_id = mycid)"
   ]
  },
  {
   "cell_type": "markdown",
   "metadata": {},
   "source": [
    "<a id=\"ref5\"></a>\n",
    "<h2>Exercises</h2>\n",
    "<p>For the following exercises you are going to train a Custom Visual Recognition Classifier to recognize fast food items, in particular it will be able to classify food items into <b>Burger</b>, <b>Fries</b> or <b>Coke</b>.<p>"
   ]
  },
  {
   "cell_type": "markdown",
   "metadata": {},
   "source": [
    "<h3>Question 1: Optional</h3>\n",
    "<p>After training your custom classifier, you might want to delete all the custom classifiers from your account, write a piece of code to use the *list_classifier* and *delete_classifier* method to delete all the custom classifiers in your account.</p>\n",
    "\n",
    "<p><b>Note!</b> This question is optional, if there is a classifier that you have trained and do not want to delete, skip this question.</p>"
   ]
  },
  {
   "cell_type": "code",
   "execution_count": 22,
   "metadata": {},
   "outputs": [],
   "source": [
    "# Write your code below and press Shift+Enter to execute \n",
    "\n",
    "\n",
    "\n",
    "\n"
   ]
  },
  {
   "cell_type": "markdown",
   "metadata": {},
   "source": [
    "Double-click <b>here</b> for the solution.\n",
    "\n",
    "<!-- The answer is below:\n",
    "\n",
    "# The code below will delete all classifiers in your account\n",
    "for i in visrec.list_classifiers().get_result()['classifiers']:\n",
    "    print('Deleting ...' + i['classifier_id'])\n",
    "    visrec.delete_classifier(classifier_id=i['classifier_id'])\n",
    "-->"
   ]
  },
  {
   "cell_type": "markdown",
   "metadata": {},
   "source": [
    "<h3>Question 2</h3>\n",
    "<p>The link to the data set for Burger, Fries and Coke is given below</p> \n",
    "    \n",
    "<p>We will use the <b>urlretrieve</b> method from the <b>urllib.request</b> library to download the dataset below.</p> \n",
    "\n",
    "\n",
    "<ul>\n",
    "    <li>https://s3-api.us-geo.objectstorage.softlayer.net/cf-courses-data/CognitiveClass/CV0101/Dataset/Burger.zip</li>\n",
    "    <li>https://s3-api.us-geo.objectstorage.softlayer.net/cf-courses-data/CognitiveClass/CV0101/Dataset/Fries.zip</li>\n",
    "    <li>https://s3-api.us-geo.objectstorage.softlayer.net/cf-courses-data/CognitiveClass/CV0101/Dataset/Pizza.zip</li>\n",
    "</ul>"
   ]
  },
  {
   "cell_type": "code",
   "execution_count": 26,
   "metadata": {},
   "outputs": [
    {
     "name": "stdout",
     "output_type": "stream",
     "text": [
      "--2019-12-21 18:01:25--  https://s3-api.us-geo.objectstorage.softlayer.net/cf-courses-data/CognitiveClass/CV0101/Dataset/Burger.zip\n",
      "Resolving s3-api.us-geo.objectstorage.softlayer.net (s3-api.us-geo.objectstorage.softlayer.net)... 67.228.254.196\n",
      "Connecting to s3-api.us-geo.objectstorage.softlayer.net (s3-api.us-geo.objectstorage.softlayer.net)|67.228.254.196|:443... connected.\n",
      "HTTP request sent, awaiting response... 200 OK\n",
      "Length: 10413972 (9.9M) [application/zip]\n",
      "Saving to: ‘Burger.zip.1’\n",
      "\n",
      "Burger.zip.1        100%[===================>]   9.93M  24.4MB/s    in 0.4s    \n",
      "\n",
      "2019-12-21 18:01:25 (24.4 MB/s) - ‘Burger.zip.1’ saved [10413972/10413972]\n",
      "\n",
      "--2019-12-21 18:01:26--  https://s3-api.us-geo.objectstorage.softlayer.net/cf-courses-data/CognitiveClass/CV0101/Dataset/Fries.zip\n",
      "Resolving s3-api.us-geo.objectstorage.softlayer.net (s3-api.us-geo.objectstorage.softlayer.net)... 67.228.254.196\n",
      "Connecting to s3-api.us-geo.objectstorage.softlayer.net (s3-api.us-geo.objectstorage.softlayer.net)|67.228.254.196|:443... connected.\n",
      "HTTP request sent, awaiting response... 200 OK\n",
      "Length: 6957344 (6.6M) [application/zip]\n",
      "Saving to: ‘Fries.zip’\n",
      "\n",
      "Fries.zip           100%[===================>]   6.63M  5.28MB/s    in 1.3s    \n",
      "\n",
      "2019-12-21 18:01:27 (5.28 MB/s) - ‘Fries.zip’ saved [6957344/6957344]\n",
      "\n",
      "--2019-12-21 18:01:27--  https://s3-api.us-geo.objectstorage.softlayer.net/cf-courses-data/CognitiveClass/CV0101/Dataset/Pizza.zip\n",
      "Resolving s3-api.us-geo.objectstorage.softlayer.net (s3-api.us-geo.objectstorage.softlayer.net)... 67.228.254.196\n",
      "Connecting to s3-api.us-geo.objectstorage.softlayer.net (s3-api.us-geo.objectstorage.softlayer.net)|67.228.254.196|:443... connected.\n",
      "HTTP request sent, awaiting response... 200 OK\n",
      "Length: 21824223 (21M) [application/zip]\n",
      "Saving to: ‘Pizza.zip’\n",
      "\n",
      "Pizza.zip           100%[===================>]  20.81M  42.9MB/s    in 0.5s    \n",
      "\n",
      "2019-12-21 18:01:28 (42.9 MB/s) - ‘Pizza.zip’ saved [21824223/21824223]\n",
      "\n"
     ]
    }
   ],
   "source": [
    "# Write your code below and press Shift+Enter to execute \n",
    "#import urllib.request\n",
    "\n",
    "# Downloading Burger dataset\n",
    "#urllib.request.urlretrieve(\"https://s3-api.us-geo.objectstorage.softlayer.net/cf-courses-data/CognitiveClass/CV0101/Dataset/Burger.zip\")\n",
    "\n",
    "# Downloading Fries dataset\n",
    "#urllib.request.urlretrieve(\"https://s3-api.us-geo.objectstorage.softlayer.net/cf-courses-data/CognitiveClass/CV0101/Dataset/Fries.zip\")\n",
    "\n",
    "# Downloading Pizza dataset\n",
    "#urllib.request.urlretrieve(\"https://s3-api.us-geo.objectstorage.softlayer.net/cf-courses-data/CognitiveClass/CV0101/Dataset/Pizza.zip\") #note that we should remove any hyphens from the zip file name\n",
    "\n",
    "! wget \"https://s3-api.us-geo.objectstorage.softlayer.net/cf-courses-data/CognitiveClass/CV0101/Dataset/Burger.zip\"\n",
    "! wget \"https://s3-api.us-geo.objectstorage.softlayer.net/cf-courses-data/CognitiveClass/CV0101/Dataset/Fries.zip\"\n",
    "! wget \"https://s3-api.us-geo.objectstorage.softlayer.net/cf-courses-data/CognitiveClass/CV0101/Dataset/Pizza.zip\""
   ]
  },
  {
   "cell_type": "markdown",
   "metadata": {},
   "source": [
    "Double-click <b>here</b> for the solution.\n",
    "\n",
    "<!-- The answer is below:\n",
    "import urllib.request\n",
    "\n",
    "#Downloading Burger dataset\n",
    "urllib.request.urlretrieve(\"https://s3-api.us-geo.objectstorage.softlayer.net/cf-courses-data/CognitiveClass/CV0101/Dataset/Burger.zip\", \n",
    "                           \"burger.zip\")\n",
    "\n",
    "#Downloading Fries dataset\n",
    "urllib.request.urlretrieve(\"https://s3-api.us-geo.objectstorage.softlayer.net/cf-courses-data/CognitiveClass/CV0101/Dataset/Fries.zip\", \n",
    "                           \"fries.zip\")\n",
    "\n",
    "#Downloading Pizza dataset\n",
    "urllib.request.urlretrieve(\"https://s3-api.us-geo.objectstorage.softlayer.net/cf-courses-data/CognitiveClass/CV0101/Dataset/Pizza.zip\", \n",
    "                           \"pizza.zip\")\n",
    "-->"
   ]
  },
  {
   "cell_type": "markdown",
   "metadata": {},
   "source": [
    "<h3>Question 3.1</h3>\n",
    "<p>Now we have the dataset, use the <b>create_classifier</b> method to create your fast food classifier.</p>"
   ]
  },
  {
   "cell_type": "code",
   "execution_count": 27,
   "metadata": {},
   "outputs": [
    {
     "name": "stdout",
     "output_type": "stream",
     "text": [
      "{\n",
      "  \"classifier_id\": \"foodClassifier_1156079090\",\n",
      "  \"name\": \"foodClassifier\",\n",
      "  \"status\": \"training\",\n",
      "  \"owner\": \"18e2eb03-8638-45df-992b-17c338278724\",\n",
      "  \"created\": \"2019-12-21T18:01:48.169Z\",\n",
      "  \"updated\": \"2019-12-21T18:01:48.169Z\",\n",
      "  \"classes\": [\n",
      "    {\n",
      "      \"class\": \"Burger\"\n",
      "    },\n",
      "    {\n",
      "      \"class\": \"Pizza\"\n",
      "    },\n",
      "    {\n",
      "      \"class\": \"Fries\"\n",
      "    }\n",
      "  ],\n",
      "  \"core_ml_enabled\": true\n",
      "}\n"
     ]
    }
   ],
   "source": [
    "# Write your code below and press Shift+Enter to execute \n",
    "import json\n",
    "with open('Burger.zip', 'rb') as Burger, \\\n",
    "     open('Fries.zip', 'rb') as Fries, \\\n",
    "     open('Pizza.zip', 'rb') as Pizza:\n",
    "        response = visrec.create_classifier(name=\"foodClassifier\",\n",
    "                                        positive_examples={'Burger': Burger, \\\n",
    "                                                           'Fries': Fries, \\\n",
    "                                                           'Pizza': Pizza})\n",
    "print(json.dumps(response.get_result(), indent=2))"
   ]
  },
  {
   "cell_type": "markdown",
   "metadata": {},
   "source": [
    "Double-click <b>here</b> for the solution.\n",
    "\n",
    "<!-- The answer is below:\n",
    "my_apikey = '<paste your api key here>'\n",
    "\n",
    "from ibm_watson import VisualRecognitionV3\n",
    "\n",
    "visrec_fast_food = VisualRecognitionV3(version = '2019-01-01', \n",
    "                             iam_apikey = my_apikey)\n",
    "\n",
    "import json\n",
    "with open('burger.zip', 'rb') as burger, \\\n",
    "     open('fries.zip', 'rb') as fries, \\\n",
    "     open('pizza.zip', 'rb') as pizza:\n",
    "    new_response = visrec_fast_food.create_classifier(name=\"fastfoodclassifier\",\n",
    "                                        positive_examples={'burger': burger, \\\n",
    "                                                           'fries': fries, \\\n",
    "                                                           'pizza': pizza})\n",
    "\n",
    "    print(json.dumps(new_response.get_result(), indent=2))\n",
    "-->"
   ]
  },
  {
   "cell_type": "markdown",
   "metadata": {},
   "source": [
    "<h3>Question 3.2</h3>\n",
    "<p>Since we will need the classifier_id, grab the classifier_id from the response of create_classifier and store it into a variable.</p>"
   ]
  },
  {
   "cell_type": "code",
   "execution_count": 28,
   "metadata": {},
   "outputs": [],
   "source": [
    "# Write your code below and press Shift+Enter to execute \n",
    "#lets grab the classifier id\n",
    "classifier_id = response.get_result()[\"classifier_id\"]"
   ]
  },
  {
   "cell_type": "markdown",
   "metadata": {},
   "source": [
    "Double-click <b>here</b> for the solution.\n",
    "\n",
    "<!-- The answer is below:\n",
    "#lets grab the classifier id\n",
    "fast_food_classifier_id = new_response.get_result()['classifier_id']\n",
    "-->"
   ]
  },
  {
   "cell_type": "code",
   "execution_count": 33,
   "metadata": {},
   "outputs": [
    {
     "data": {
      "text/plain": [
       "'ready'"
      ]
     },
     "execution_count": 33,
     "metadata": {},
     "output_type": "execute_result"
    }
   ],
   "source": [
    "visrec.get_classifier(classifier_id=classifier_id, verbose=True).get_result()['status']"
   ]
  },
  {
   "cell_type": "markdown",
   "metadata": {},
   "source": [
    "<h3>Question 4</h3>\n",
    "<p>Get a url of a picture of fast food and use the <b>getdf_visrec</b> function to classify the picture</p>"
   ]
  },
  {
   "cell_type": "code",
   "execution_count": 34,
   "metadata": {},
   "outputs": [
    {
     "name": "stdout",
     "output_type": "stream",
     "text": [
      "--2019-12-21 18:25:13--  https://res.cloudinary.com/sagacity/image/upload/c_crop,h_3456,w_5184,x_0,y_0/c_limit,dpr_auto,f_auto,fl_lossy,q_80,w_1080/superdeluxe_owgtql.jpg\n",
      "Resolving res.cloudinary.com (res.cloudinary.com)... 151.101.125.137, 2a04:4e42:1e::393\n",
      "Connecting to res.cloudinary.com (res.cloudinary.com)|151.101.125.137|:443... connected.\n",
      "HTTP request sent, awaiting response... 200 OK\n",
      "Length: 128700 (126K) [image/jpeg]\n",
      "Saving to: ‘superdeluxe_owgtql.jpg.1’\n",
      "\n",
      "superdeluxe_owgtql. 100%[===================>] 125.68K  --.-KB/s    in 0.003s  \n",
      "\n",
      "2019-12-21 18:25:14 (46.4 MB/s) - ‘superdeluxe_owgtql.jpg.1’ saved [128700/128700]\n",
      "\n"
     ]
    }
   ],
   "source": [
    "# Write your code below and press Shift+Enter to execute \n",
    "! wget \"https://res.cloudinary.com/sagacity/image/upload/c_crop,h_3456,w_5184,x_0,y_0/c_limit,dpr_auto,f_auto,fl_lossy,q_80,w_1080/superdeluxe_owgtql.jpg\"\n",
    "\n"
   ]
  },
  {
   "cell_type": "code",
   "execution_count": 35,
   "metadata": {},
   "outputs": [
    {
     "data": {
      "text/html": [
       "<div>\n",
       "<style scoped>\n",
       "    .dataframe tbody tr th:only-of-type {\n",
       "        vertical-align: middle;\n",
       "    }\n",
       "\n",
       "    .dataframe tbody tr th {\n",
       "        vertical-align: top;\n",
       "    }\n",
       "\n",
       "    .dataframe thead th {\n",
       "        text-align: right;\n",
       "    }\n",
       "</style>\n",
       "<table border=\"1\" class=\"dataframe\">\n",
       "  <thead>\n",
       "    <tr style=\"text-align: right;\">\n",
       "      <th></th>\n",
       "      <th>class</th>\n",
       "      <th>score</th>\n",
       "    </tr>\n",
       "  </thead>\n",
       "  <tbody>\n",
       "    <tr>\n",
       "      <th>0</th>\n",
       "      <td>Fries</td>\n",
       "      <td>0.899</td>\n",
       "    </tr>\n",
       "  </tbody>\n",
       "</table>\n",
       "</div>"
      ],
      "text/plain": [
       "   class  score\n",
       "0  Fries  0.899"
      ]
     },
     "execution_count": 35,
     "metadata": {},
     "output_type": "execute_result"
    }
   ],
   "source": [
    "getdf_visrec(url = 'https://res.cloudinary.com/sagacity/image/upload/c_crop,h_3456,w_5184,x_0,y_0/c_limit,dpr_auto,f_auto,fl_lossy,q_80,w_1080/superdeluxe_owgtql.jpg',\n",
    "            classifier_ids=classifier_id)"
   ]
  },
  {
   "cell_type": "markdown",
   "metadata": {},
   "source": [
    "Double-click <b>here</b> for the solution.\n",
    "\n",
    "<!-- The answer is below:\n",
    "getdf_visrec(url = 'fast_food_image_url',\n",
    "            classifier_ids=fast_food_classifier_id)\n",
    "-->"
   ]
  },
  {
   "cell_type": "markdown",
   "metadata": {},
   "source": [
    "<h1>Thank you for completing this notebook</h1>\n",
    "You can read more about Watson Visual Recognition APIs from the following link.\n",
    "<a href=\"https://cloud.ibm.com/apidocs/visual-recognition?code=python\">https://cloud.ibm.com/apidocs/visual-recognition</a>\n",
    "\n",
    "<div class=\"alert alert-block alert-info\" style=\"margin-top: 20px\">\n",
    "<h2>Get IBM Watson Studio free of charge!</h2>\n",
    "    <p><a href=\"https://cocl.us/NotebooksPython101bottom\"><img src=\"https://s3-api.us-geo.objectstorage.softlayer.net/cf-courses-data/CognitiveClass/CV0101/Logo/BottomAd.png\" width=\"750\" align=\"center\"></a></p>\n",
    "</div>"
   ]
  },
  {
   "cell_type": "markdown",
   "metadata": {},
   "source": [
    "<h3>About the Authors:</h3>\n",
    "<p>This notebook was written by <a href=\"https://www.linkedin.com/in/yi-leng-yao-84451275/\" target=\"_blank\" >Yi Yao</a>.<p>\n",
    "<p><a href=\"https://www.linkedin.com/in/yi-leng-yao-84451275/\" target=\"_blank\">Yi Yao</a> is a Data Scientist and Software Engineer at IBM, and holds a Masters in Statistics. His research focused on Cloud Computing, Machine Learning and Computer Vision.</p>\n",
    "<hr>\n",
    "<p>Copyright &copy; 2019 IBM Developer Skills Network. This notebook and its source code are released under the terms of the <a href=\"https://cognitiveclass.ai/mit-license/\">MIT License</a>.</p>"
   ]
  }
 ],
 "metadata": {
  "kernelspec": {
   "display_name": "Python 3",
   "language": "python",
   "name": "python3"
  },
  "language_info": {
   "codemirror_mode": {
    "name": "ipython",
    "version": 3
   },
   "file_extension": ".py",
   "mimetype": "text/x-python",
   "name": "python",
   "nbconvert_exporter": "python",
   "pygments_lexer": "ipython3",
   "version": "3.8.0"
  }
 },
 "nbformat": 4,
 "nbformat_minor": 4
}

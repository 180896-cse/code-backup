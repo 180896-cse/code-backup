{
 "cells": [
  {
   "cell_type": "code",
   "execution_count": 6,
   "metadata": {
    "colab": {
     "base_uri": "https://localhost:8080/",
     "height": 225
    },
    "colab_type": "code",
    "id": "1xJZ5glPPCRz",
    "outputId": "19efed7f-d4c4-478c-9eb4-d0be1af8040f"
   },
   "outputs": [
    {
     "name": "stdout",
     "output_type": "stream",
     "text": [
      "--2019-12-24 15:09:50--  https://storage.googleapis.com/mledu-datasets/inception_v3_weights_tf_dim_ordering_tf_kernels_notop.h5\n",
      "Resolving storage.googleapis.com (storage.googleapis.com)... 108.177.119.128, 2a00:1450:4013:c00::80\n",
      "Connecting to storage.googleapis.com (storage.googleapis.com)|108.177.119.128|:443... connected.\n",
      "HTTP request sent, awaiting response... 200 OK\n",
      "Length: 87910968 (84M) [application/x-hdf]\n",
      "Saving to: ‘/tmp/inception_v3_weights_tf_dim_ordering_tf_kernels_notop.h5’\n",
      "\n",
      "/tmp/inception_v3_w 100%[===================>]  83.84M  66.8MB/s    in 1.3s    \n",
      "\n",
      "2019-12-24 15:09:51 (66.8 MB/s) - ‘/tmp/inception_v3_weights_tf_dim_ordering_tf_kernels_notop.h5’ saved [87910968/87910968]\n",
      "\n",
      "last layer output shape:  (None, 7, 7, 768)\n"
     ]
    }
   ],
   "source": [
    "import os\n",
    "\n",
    "from tensorflow.keras import layers\n",
    "from tensorflow.keras import Model\n",
    "!wget --no-check-certificate \\\n",
    "    https://storage.googleapis.com/mledu-datasets/inception_v3_weights_tf_dim_ordering_tf_kernels_notop.h5 \\\n",
    "    -O /tmp/inception_v3_weights_tf_dim_ordering_tf_kernels_notop.h5\n",
    "  \n",
    "from tensorflow.keras.applications.inception_v3 import InceptionV3\n",
    "\n",
    "local_weights_file = '/tmp/inception_v3_weights_tf_dim_ordering_tf_kernels_notop.h5'\n",
    "\n",
    "pre_trained_model = InceptionV3(input_shape = (150, 150, 3), \n",
    "                                include_top = False, \n",
    "                                weights = None)\n",
    "\n",
    "pre_trained_model.load_weights(local_weights_file)\n",
    "\n",
    "for layer in pre_trained_model.layers:\n",
    "  layer.trainable = False\n",
    "  \n",
    "# pre_trained_model.summary()\n",
    "\n",
    "last_layer = pre_trained_model.get_layer('mixed7')\n",
    "print('last layer output shape: ', last_layer.output_shape)\n",
    "last_output = last_layer.output"
   ]
  },
  {
   "cell_type": "code",
   "execution_count": null,
   "metadata": {
    "colab": {},
    "colab_type": "code",
    "id": "BMXb913pbvFg"
   },
   "outputs": [],
   "source": [
    "from tensorflow.keras.optimizers import RMSprop\n",
    "\n",
    "# Flatten the output layer to 1 dimension\n",
    "x = layers.Flatten()(last_output)\n",
    "# Add a fully connected layer with 1,024 hidden units and ReLU activation\n",
    "x = layers.Dense(1024, activation='relu')(x)\n",
    "# Add a dropout rate of 0.2\n",
    "x = layers.Dropout(0.2)(x)                  \n",
    "# Add a final sigmoid layer for classification\n",
    "x = layers.Dense  (1, activation='sigmoid')(x)           \n",
    "\n",
    "model = Model( pre_trained_model.input, x) \n",
    "\n",
    "model.compile(optimizer = RMSprop(lr=0.0001), \n",
    "              loss = 'binary_crossentropy', \n",
    "              metrics = ['acc'])\n"
   ]
  },
  {
   "cell_type": "code",
   "execution_count": 8,
   "metadata": {
    "colab": {
     "base_uri": "https://localhost:8080/",
     "height": 243
    },
    "colab_type": "code",
    "id": "O4s8HckqGlnb",
    "outputId": "4bd29aee-3b3f-4cfb-935c-8bf28c198709"
   },
   "outputs": [
    {
     "name": "stdout",
     "output_type": "stream",
     "text": [
      "--2019-12-24 15:10:03--  https://storage.googleapis.com/mledu-datasets/cats_and_dogs_filtered.zip\n",
      "Resolving storage.googleapis.com (storage.googleapis.com)... 108.177.119.128, 2a00:1450:4013:c00::80\n",
      "Connecting to storage.googleapis.com (storage.googleapis.com)|108.177.119.128|:443... connected.\n",
      "HTTP request sent, awaiting response... 200 OK\n",
      "Length: 68606236 (65M) [application/zip]\n",
      "Saving to: ‘/tmp/cats_and_dogs_filtered.zip’\n",
      "\n",
      "/tmp/cats_and_dogs_ 100%[===================>]  65.43M  65.2MB/s    in 1.0s    \n",
      "\n",
      "2019-12-24 15:10:04 (65.2 MB/s) - ‘/tmp/cats_and_dogs_filtered.zip’ saved [68606236/68606236]\n",
      "\n",
      "Found 2000 images belonging to 2 classes.\n",
      "Found 1000 images belonging to 2 classes.\n"
     ]
    }
   ],
   "source": [
    "!wget --no-check-certificate \\\n",
    "        https://storage.googleapis.com/mledu-datasets/cats_and_dogs_filtered.zip \\\n",
    "       -O /tmp/cats_and_dogs_filtered.zip\n",
    "\n",
    "from tensorflow.keras.preprocessing.image import ImageDataGenerator\n",
    "\n",
    "import os\n",
    "import zipfile\n",
    "\n",
    "local_zip = '//tmp/cats_and_dogs_filtered.zip'\n",
    "\n",
    "zip_ref = zipfile.ZipFile(local_zip, 'r')\n",
    "\n",
    "zip_ref.extractall('/tmp')\n",
    "zip_ref.close()\n",
    "\n",
    "# Define our example directories and files\n",
    "base_dir = '/tmp/cats_and_dogs_filtered'\n",
    "\n",
    "train_dir = os.path.join( base_dir, 'train')\n",
    "validation_dir = os.path.join( base_dir, 'validation')\n",
    "\n",
    "\n",
    "train_cats_dir = os.path.join(train_dir, 'cats') # Directory with our training cat pictures\n",
    "train_dogs_dir = os.path.join(train_dir, 'dogs') # Directory with our training dog pictures\n",
    "validation_cats_dir = os.path.join(validation_dir, 'cats') # Directory with our validation cat pictures\n",
    "validation_dogs_dir = os.path.join(validation_dir, 'dogs')# Directory with our validation dog pictures\n",
    "\n",
    "train_cat_fnames = os.listdir(train_cats_dir)\n",
    "train_dog_fnames = os.listdir(train_dogs_dir)\n",
    "\n",
    "# Add our data-augmentation parameters to ImageDataGenerator\n",
    "train_datagen = ImageDataGenerator(rescale = 1./255.,\n",
    "                                   rotation_range = 40,\n",
    "                                   width_shift_range = 0.2,\n",
    "                                   height_shift_range = 0.2,\n",
    "                                   shear_range = 0.2,\n",
    "                                   zoom_range = 0.2,\n",
    "                                   horizontal_flip = True)\n",
    "\n",
    "# Note that the validation data should not be augmented!\n",
    "test_datagen = ImageDataGenerator( rescale = 1.0/255. )\n",
    "\n",
    "# Flow training images in batches of 20 using train_datagen generator\n",
    "train_generator = train_datagen.flow_from_directory(train_dir,\n",
    "                                                    batch_size = 20,\n",
    "                                                    class_mode = 'binary', \n",
    "                                                    target_size = (150, 150))     \n",
    "\n",
    "# Flow validation images in batches of 20 using test_datagen generator\n",
    "validation_generator =  test_datagen.flow_from_directory( validation_dir,\n",
    "                                                          batch_size  = 20,\n",
    "                                                          class_mode  = 'binary', \n",
    "                                                          target_size = (150, 150))"
   ]
  },
  {
   "cell_type": "code",
   "execution_count": 9,
   "metadata": {
    "colab": {
     "base_uri": "https://localhost:8080/",
     "height": 1000
    },
    "colab_type": "code",
    "id": "Blhq2MAUeyGA",
    "outputId": "b5eee098-4e4f-441d-d65b-ad393cee87f9"
   },
   "outputs": [
    {
     "name": "stdout",
     "output_type": "stream",
     "text": [
      "Epoch 1/20\n",
      "Epoch 1/20\n",
      "100/100 - 23s - loss: 0.4971 - acc: 0.7660 - val_loss: 0.3235 - val_acc: 0.9090\n",
      "Epoch 2/20\n",
      "Epoch 1/20\n",
      "100/100 - 19s - loss: 0.3668 - acc: 0.8360 - val_loss: 0.1664 - val_acc: 0.9550\n",
      "Epoch 3/20\n",
      "Epoch 1/20\n",
      "100/100 - 19s - loss: 0.3418 - acc: 0.8505 - val_loss: 0.5682 - val_acc: 0.8950\n",
      "Epoch 4/20\n",
      "Epoch 1/20\n",
      "100/100 - 19s - loss: 0.3441 - acc: 0.8470 - val_loss: 0.4586 - val_acc: 0.9210\n",
      "Epoch 5/20\n",
      "Epoch 1/20\n",
      "100/100 - 19s - loss: 0.3175 - acc: 0.8710 - val_loss: 0.2437 - val_acc: 0.9540\n",
      "Epoch 6/20\n",
      "Epoch 1/20\n",
      "100/100 - 19s - loss: 0.3084 - acc: 0.8720 - val_loss: 0.2652 - val_acc: 0.9560\n",
      "Epoch 7/20\n",
      "Epoch 1/20\n",
      "100/100 - 19s - loss: 0.3275 - acc: 0.8590 - val_loss: 0.3653 - val_acc: 0.9500\n",
      "Epoch 8/20\n",
      "Epoch 1/20\n",
      "100/100 - 19s - loss: 0.3075 - acc: 0.8750 - val_loss: 0.3361 - val_acc: 0.9530\n",
      "Epoch 9/20\n",
      "Epoch 1/20\n",
      "100/100 - 19s - loss: 0.2747 - acc: 0.8905 - val_loss: 0.3751 - val_acc: 0.9590\n",
      "Epoch 10/20\n",
      "Epoch 1/20\n",
      "100/100 - 19s - loss: 0.2854 - acc: 0.8810 - val_loss: 0.5064 - val_acc: 0.9410\n",
      "Epoch 11/20\n",
      "Epoch 1/20\n",
      "100/100 - 19s - loss: 0.2716 - acc: 0.8905 - val_loss: 0.4794 - val_acc: 0.9460\n",
      "Epoch 12/20\n",
      "Epoch 1/20\n",
      "100/100 - 19s - loss: 0.2799 - acc: 0.8845 - val_loss: 0.3565 - val_acc: 0.9630\n",
      "Epoch 13/20\n",
      "Epoch 1/20\n",
      "100/100 - 19s - loss: 0.2661 - acc: 0.8940 - val_loss: 0.3255 - val_acc: 0.9640\n",
      "Epoch 14/20\n",
      "Epoch 1/20\n",
      "100/100 - 19s - loss: 0.2709 - acc: 0.8940 - val_loss: 0.4684 - val_acc: 0.9500\n",
      "Epoch 15/20\n",
      "Epoch 1/20\n",
      "100/100 - 19s - loss: 0.2433 - acc: 0.9040 - val_loss: 0.3526 - val_acc: 0.9590\n",
      "Epoch 16/20\n",
      "Epoch 1/20\n",
      "100/100 - 19s - loss: 0.2811 - acc: 0.8800 - val_loss: 0.3484 - val_acc: 0.9620\n",
      "Epoch 17/20\n",
      "Epoch 1/20\n",
      "100/100 - 19s - loss: 0.2512 - acc: 0.8975 - val_loss: 0.4665 - val_acc: 0.9530\n",
      "Epoch 18/20\n",
      "Epoch 1/20\n",
      "100/100 - 19s - loss: 0.2414 - acc: 0.9110 - val_loss: 0.3938 - val_acc: 0.9610\n",
      "Epoch 19/20\n",
      "Epoch 1/20\n",
      "100/100 - 19s - loss: 0.2648 - acc: 0.8965 - val_loss: 0.4123 - val_acc: 0.9570\n",
      "Epoch 20/20\n",
      "Epoch 1/20\n",
      "100/100 - 19s - loss: 0.2770 - acc: 0.8980 - val_loss: 0.3910 - val_acc: 0.9560\n"
     ]
    }
   ],
   "source": [
    "history = model.fit_generator(\n",
    "            train_generator,\n",
    "            validation_data = validation_generator,\n",
    "            steps_per_epoch = 100,\n",
    "            epochs = 20,\n",
    "            validation_steps = 50,\n",
    "            verbose = 2)"
   ]
  },
  {
   "cell_type": "code",
   "execution_count": 10,
   "metadata": {
    "colab": {
     "base_uri": "https://localhost:8080/",
     "height": 298
    },
    "colab_type": "code",
    "id": "C2Fp6Se9rKuL",
    "outputId": "087809e2-df3c-44f1-db4d-a73e60694820"
   },
   "outputs": [
    {
     "data": {
      "image/png": "[encoded data removed]",
      "text/plain": [
       "<Figure size 432x288 with 1 Axes>"
      ]
     },
     "metadata": {
      "tags": []
     },
     "output_type": "display_data"
    },
    {
     "data": {
      "text/plain": [
       "<Figure size 432x288 with 0 Axes>"
      ]
     },
     "metadata": {
      "tags": []
     },
     "output_type": "display_data"
    }
   ],
   "source": [
    "import matplotlib.pyplot as plt\n",
    "acc = history.history['acc']\n",
    "val_acc = history.history['val_acc']\n",
    "loss = history.history['loss']\n",
    "val_loss = history.history['val_loss']\n",
    "\n",
    "epochs = range(len(acc))\n",
    "\n",
    "plt.plot(epochs, acc, 'r', label='Training accuracy')\n",
    "plt.plot(epochs, val_acc, 'b', label='Validation accuracy')\n",
    "plt.title('Training and validation accuracy')\n",
    "plt.legend(loc=0)\n",
    "plt.figure()\n",
    "\n",
    "\n",
    "plt.show()"
   ]
  },
  {
   "cell_type": "code",
   "execution_count": null,
   "metadata": {
    "colab": {},
    "colab_type": "code",
    "id": "KaS0aQWvbcdQ"
   },
   "outputs": [],
   "source": []
  }
 ],
 "metadata": {
  "accelerator": "GPU",
  "colab": {
   "collapsed_sections": [],
   "name": "Transfer Learning.ipynb",
   "provenance": []
  },
  "kernelspec": {
   "display_name": "Python 3",
   "language": "python",
   "name": "python3"
  },
  "language_info": {
   "codemirror_mode": {
    "name": "ipython",
    "version": 3
   },
   "file_extension": ".py",
   "mimetype": "text/x-python",
   "name": "python",
   "nbconvert_exporter": "python",
   "pygments_lexer": "ipython3",
   "version": "3.8.0"
  }
 },
 "nbformat": 4,
 "nbformat_minor": 4
}

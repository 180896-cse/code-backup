{
 "cells": [
  {
   "cell_type": "code",
   "execution_count": 1,
   "metadata": {
    "colab": {
     "base_uri": "https://localhost:8080/",
     "height": 64
    },
    "colab_type": "code",
    "id": "BOwsuGQQY9OL",
    "outputId": "ab33a007-0c5a-4c0c-9572-40467f6f869b"
   },
   "outputs": [
    {
     "data": {
      "text/html": [
       "<p style=\"color: red;\">\n",
       "The default version of TensorFlow in Colab will soon switch to TensorFlow 2.x.<br>\n",
       "We recommend you <a href=\"https://www.tensorflow.org/guide/migrate\" target=\"_blank\">upgrade</a> now \n",
       "or ensure your notebook will continue to use TensorFlow 1.x via the <code>%tensorflow_version 1.x</code> magic:\n",
       "<a href=\"https://colab.research.google.com/notebooks/tensorflow_version.ipynb\" target=\"_blank\">more info</a>.</p>\n"
      ],
      "text/plain": [
       "<IPython.core.display.HTML object>"
      ]
     },
     "metadata": {
      "tags": []
     },
     "output_type": "display_data"
    }
   ],
   "source": [
    "from tensorflow.keras.preprocessing.sequence import pad_sequences\n",
    "from tensorflow.keras.layers import Embedding, LSTM, Dense, Dropout, Bidirectional\n",
    "from tensorflow.keras.preprocessing.text import Tokenizer\n",
    "from tensorflow.keras.models import Sequential\n",
    "from tensorflow.keras.optimizers import Adam\n",
    "from tensorflow.keras import regularizers\n",
    "import tensorflow.keras.utils as ku \n",
    "import numpy as np "
   ]
  },
  {
   "cell_type": "code",
   "execution_count": 2,
   "metadata": {
    "colab": {
     "base_uri": "https://localhost:8080/",
     "height": 208
    },
    "colab_type": "code",
    "id": "PRnDnCW-Z7qv",
    "outputId": "20b1b832-e1c4-498a-c71a-ac70e2c0589c"
   },
   "outputs": [
    {
     "name": "stdout",
     "output_type": "stream",
     "text": [
      "--2019-12-28 06:33:20--  https://storage.googleapis.com/laurencemoroney-blog.appspot.com/sonnets.txt\n",
      "Resolving storage.googleapis.com (storage.googleapis.com)... 74.125.195.128, 2607:f8b0:400e:c07::80\n",
      "Connecting to storage.googleapis.com (storage.googleapis.com)|74.125.195.128|:443... connected.\n",
      "HTTP request sent, awaiting response... 200 OK\n",
      "Length: 93578 (91K) [text/plain]\n",
      "Saving to: ‘/tmp/sonnets.txt’\n",
      "\n",
      "/tmp/sonnets.txt    100%[===================>]  91.38K  --.-KB/s    in 0.001s  \n",
      "\n",
      "2019-12-28 06:33:20 (132 MB/s) - ‘/tmp/sonnets.txt’ saved [93578/93578]\n",
      "\n"
     ]
    }
   ],
   "source": [
    "tokenizer = Tokenizer()\n",
    "!wget --no-check-certificate \\\n",
    "    https://storage.googleapis.com/laurencemoroney-blog.appspot.com/sonnets.txt \\\n",
    "    -O /tmp/sonnets.txt\n",
    "data = open('/tmp/sonnets.txt').read()\n",
    "\n",
    "corpus = data.lower().split(\"\\n\")\n",
    "\n",
    "\n",
    "tokenizer.fit_on_texts(corpus)\n",
    "total_words = len(tokenizer.word_index) + 1\n",
    "\n",
    "# create input sequences using list of tokens\n",
    "input_sequences = []\n",
    "for line in corpus:\n",
    "\ttoken_list = tokenizer.texts_to_sequences([line])[0]\n",
    "\tfor i in range(1, len(token_list)):\n",
    "\t\tn_gram_sequence = token_list[:i+1]\n",
    "\t\tinput_sequences.append(n_gram_sequence)\n",
    "\n",
    "\n",
    "# pad sequences \n",
    "max_sequence_len = max([len(x) for x in input_sequences])\n",
    "input_sequences = np.array(pad_sequences(input_sequences, maxlen=max_sequence_len, padding='pre'))\n",
    "\n",
    "# create predictors and label\n",
    "predictors, label = input_sequences[:,:-1],input_sequences[:,-1]\n",
    "\n",
    "label = ku.to_categorical(label, num_classes=total_words)"
   ]
  },
  {
   "cell_type": "code",
   "execution_count": 3,
   "metadata": {
    "colab": {
     "base_uri": "https://localhost:8080/",
     "height": 662
    },
    "colab_type": "code",
    "id": "w9vH8Y59ajYL",
    "outputId": "053ee53c-5507-4bb9-8360-4e6d085c22de"
   },
   "outputs": [
    {
     "name": "stdout",
     "output_type": "stream",
     "text": [
      "WARNING:tensorflow:From /usr/local/lib/python3.6/dist-packages/tensorflow_core/python/keras/initializers.py:119: calling RandomUniform.__init__ (from tensorflow.python.ops.init_ops) with dtype is deprecated and will be removed in a future version.\n",
      "Instructions for updating:\n",
      "Call initializer instance with the dtype argument instead of passing it to the constructor\n",
      "WARNING:tensorflow:From /usr/local/lib/python3.6/dist-packages/tensorflow_core/python/ops/resource_variable_ops.py:1630: calling BaseResourceVariable.__init__ (from tensorflow.python.ops.resource_variable_ops) with constraint is deprecated and will be removed in a future version.\n",
      "Instructions for updating:\n",
      "If using Keras pass *_constraint arguments to layers.\n",
      "WARNING:tensorflow:From /usr/local/lib/python3.6/dist-packages/tensorflow_core/python/ops/init_ops.py:97: calling GlorotUniform.__init__ (from tensorflow.python.ops.init_ops) with dtype is deprecated and will be removed in a future version.\n",
      "Instructions for updating:\n",
      "Call initializer instance with the dtype argument instead of passing it to the constructor\n",
      "WARNING:tensorflow:From /usr/local/lib/python3.6/dist-packages/tensorflow_core/python/ops/init_ops.py:97: calling Orthogonal.__init__ (from tensorflow.python.ops.init_ops) with dtype is deprecated and will be removed in a future version.\n",
      "Instructions for updating:\n",
      "Call initializer instance with the dtype argument instead of passing it to the constructor\n",
      "WARNING:tensorflow:From /usr/local/lib/python3.6/dist-packages/tensorflow_core/python/ops/init_ops.py:97: calling Zeros.__init__ (from tensorflow.python.ops.init_ops) with dtype is deprecated and will be removed in a future version.\n",
      "Instructions for updating:\n",
      "Call initializer instance with the dtype argument instead of passing it to the constructor\n",
      "Model: \"sequential\"\n",
      "_________________________________________________________________\n",
      "Layer (type)                 Output Shape              Param #   \n",
      "=================================================================\n",
      "embedding (Embedding)        (None, 10, 100)           321100    \n",
      "_________________________________________________________________\n",
      "bidirectional (Bidirectional (None, 10, 300)           301200    \n",
      "_________________________________________________________________\n",
      "dropout (Dropout)            (None, 10, 300)           0         \n",
      "_________________________________________________________________\n",
      "lstm_1 (LSTM)                (None, 100)               160400    \n",
      "_________________________________________________________________\n",
      "dense (Dense)                (None, 1605)              162105    \n",
      "_________________________________________________________________\n",
      "dense_1 (Dense)              (None, 3211)              5156866   \n",
      "=================================================================\n",
      "Total params: 6,101,671\n",
      "Trainable params: 6,101,671\n",
      "Non-trainable params: 0\n",
      "_________________________________________________________________\n",
      "None\n"
     ]
    }
   ],
   "source": [
    "model = Sequential()\n",
    "model.add(Embedding(total_words, 100, input_length=max_sequence_len-1))\n",
    "model.add(Bidirectional(LSTM(150, return_sequences = True)))\n",
    "model.add(Dropout(0.2))\n",
    "model.add(LSTM(100))\n",
    "model.add(Dense(total_words/2, activation='relu', kernel_regularizer=regularizers.l2(0.01)))\n",
    "model.add(Dense(total_words, activation='softmax'))\n",
    "model.compile(loss='categorical_crossentropy', optimizer='adam', metrics=['accuracy'])\n",
    "print(model.summary())\n"
   ]
  },
  {
   "cell_type": "code",
   "execution_count": 4,
   "metadata": {
    "colab": {
     "base_uri": "https://localhost:8080/",
     "height": 1000
    },
    "colab_type": "code",
    "id": "AIg2f1HBxqof",
    "outputId": "87648100-a0e6-4dde-d545-65e98c439944"
   },
   "outputs": [
    {
     "name": "stdout",
     "output_type": "stream",
     "text": [
      "WARNING:tensorflow:From /usr/local/lib/python3.6/dist-packages/tensorflow_core/python/ops/math_grad.py:1424: where (from tensorflow.python.ops.array_ops) is deprecated and will be removed in a future version.\n",
      "Instructions for updating:\n",
      "Use tf.where in 2.0, which has the same broadcast rule as np.where\n",
      "Train on 15462 samples\n",
      "Epoch 1/100\n",
      "15462/15462 [==============================] - 23s 1ms/sample - loss: 6.9026 - acc: 0.0211\n",
      "Epoch 2/100\n",
      "15462/15462 [==============================] - 21s 1ms/sample - loss: 6.4997 - acc: 0.0228\n",
      "Epoch 3/100\n",
      "15462/15462 [==============================] - 20s 1ms/sample - loss: 6.3838 - acc: 0.0261\n",
      "Epoch 4/100\n",
      "15462/15462 [==============================] - 20s 1ms/sample - loss: 6.2674 - acc: 0.0296\n",
      "Epoch 5/100\n",
      "15462/15462 [==============================] - 21s 1ms/sample - loss: 6.1751 - acc: 0.0371\n",
      "Epoch 6/100\n",
      "15462/15462 [==============================] - 20s 1ms/sample - loss: 6.0949 - acc: 0.0384\n",
      "Epoch 7/100\n",
      "15462/15462 [==============================] - 20s 1ms/sample - loss: 6.0161 - acc: 0.0407\n",
      "Epoch 8/100\n",
      "15462/15462 [==============================] - 20s 1ms/sample - loss: 5.9274 - acc: 0.0446\n",
      "Epoch 9/100\n",
      "15462/15462 [==============================] - 20s 1ms/sample - loss: 5.8281 - acc: 0.0488\n",
      "Epoch 10/100\n",
      "15462/15462 [==============================] - 20s 1ms/sample - loss: 5.7212 - acc: 0.0550\n",
      "Epoch 11/100\n",
      "15462/15462 [==============================] - 20s 1ms/sample - loss: 5.6140 - acc: 0.0599\n",
      "Epoch 12/100\n",
      "15462/15462 [==============================] - 21s 1ms/sample - loss: 5.5064 - acc: 0.0669\n",
      "Epoch 13/100\n",
      "15462/15462 [==============================] - 21s 1ms/sample - loss: 5.3928 - acc: 0.0742\n",
      "Epoch 14/100\n",
      "15462/15462 [==============================] - 21s 1ms/sample - loss: 5.2829 - acc: 0.0842\n",
      "Epoch 15/100\n",
      "15462/15462 [==============================] - 20s 1ms/sample - loss: 5.1710 - acc: 0.0900\n",
      "Epoch 16/100\n",
      "15462/15462 [==============================] - 20s 1ms/sample - loss: 5.0652 - acc: 0.0986\n",
      "Epoch 17/100\n",
      "15462/15462 [==============================] - 20s 1ms/sample - loss: 4.9564 - acc: 0.1059\n",
      "Epoch 18/100\n",
      "15462/15462 [==============================] - 20s 1ms/sample - loss: 4.8546 - acc: 0.1132\n",
      "Epoch 19/100\n",
      "15462/15462 [==============================] - 20s 1ms/sample - loss: 4.7386 - acc: 0.1237\n",
      "Epoch 20/100\n",
      "15462/15462 [==============================] - 20s 1ms/sample - loss: 4.6375 - acc: 0.1347\n",
      "Epoch 21/100\n",
      "15462/15462 [==============================] - 20s 1ms/sample - loss: 4.5283 - acc: 0.1444\n",
      "Epoch 22/100\n",
      "15462/15462 [==============================] - 20s 1ms/sample - loss: 4.4236 - acc: 0.1553\n",
      "Epoch 23/100\n",
      "15462/15462 [==============================] - 21s 1ms/sample - loss: 4.3187 - acc: 0.1675\n",
      "Epoch 24/100\n",
      "15462/15462 [==============================] - 22s 1ms/sample - loss: 4.2116 - acc: 0.1746\n",
      "Epoch 25/100\n",
      "15462/15462 [==============================] - 21s 1ms/sample - loss: 4.1059 - acc: 0.1925\n",
      "Epoch 26/100\n",
      "15462/15462 [==============================] - 21s 1ms/sample - loss: 4.0021 - acc: 0.2063\n",
      "Epoch 27/100\n",
      "15462/15462 [==============================] - 20s 1ms/sample - loss: 3.8931 - acc: 0.2221\n",
      "Epoch 28/100\n",
      "15462/15462 [==============================] - 21s 1ms/sample - loss: 3.7838 - acc: 0.2417\n",
      "Epoch 29/100\n",
      "15462/15462 [==============================] - 20s 1ms/sample - loss: 3.6918 - acc: 0.2640\n",
      "Epoch 30/100\n",
      "15462/15462 [==============================] - 20s 1ms/sample - loss: 3.5973 - acc: 0.2817\n",
      "Epoch 31/100\n",
      "15462/15462 [==============================] - 20s 1ms/sample - loss: 3.4875 - acc: 0.3042\n",
      "Epoch 32/100\n",
      "15462/15462 [==============================] - 21s 1ms/sample - loss: 3.3997 - acc: 0.3210\n",
      "Epoch 33/100\n",
      "15462/15462 [==============================] - 21s 1ms/sample - loss: 3.3120 - acc: 0.3454\n",
      "Epoch 34/100\n",
      "15462/15462 [==============================] - 21s 1ms/sample - loss: 3.2232 - acc: 0.3629\n",
      "Epoch 35/100\n",
      "15462/15462 [==============================] - 21s 1ms/sample - loss: 3.1354 - acc: 0.3846\n",
      "Epoch 36/100\n",
      "15462/15462 [==============================] - 20s 1ms/sample - loss: 3.0579 - acc: 0.4010\n",
      "Epoch 37/100\n",
      "15462/15462 [==============================] - 20s 1ms/sample - loss: 2.9719 - acc: 0.4171\n",
      "Epoch 38/100\n",
      "15462/15462 [==============================] - 21s 1ms/sample - loss: 2.8884 - acc: 0.4394\n",
      "Epoch 39/100\n",
      "15462/15462 [==============================] - 20s 1ms/sample - loss: 2.8303 - acc: 0.4529\n",
      "Epoch 40/100\n",
      "15462/15462 [==============================] - 20s 1ms/sample - loss: 2.7626 - acc: 0.4701\n",
      "Epoch 41/100\n",
      "15462/15462 [==============================] - 21s 1ms/sample - loss: 2.7007 - acc: 0.4770\n",
      "Epoch 42/100\n",
      "15462/15462 [==============================] - 20s 1ms/sample - loss: 2.6205 - acc: 0.4961\n",
      "Epoch 43/100\n",
      "15462/15462 [==============================] - 20s 1ms/sample - loss: 2.5689 - acc: 0.5081\n",
      "Epoch 44/100\n",
      "15462/15462 [==============================] - 20s 1ms/sample - loss: 2.5011 - acc: 0.5255\n",
      "Epoch 45/100\n",
      "15462/15462 [==============================] - 20s 1ms/sample - loss: 2.4520 - acc: 0.5380\n",
      "Epoch 46/100\n",
      "15462/15462 [==============================] - 20s 1ms/sample - loss: 2.3967 - acc: 0.5519\n",
      "Epoch 47/100\n",
      "15462/15462 [==============================] - 20s 1ms/sample - loss: 2.3411 - acc: 0.5610\n",
      "Epoch 48/100\n",
      "15462/15462 [==============================] - 20s 1ms/sample - loss: 2.2995 - acc: 0.5678\n",
      "Epoch 49/100\n",
      "15462/15462 [==============================] - 20s 1ms/sample - loss: 2.2439 - acc: 0.5836\n",
      "Epoch 50/100\n",
      "15462/15462 [==============================] - 20s 1ms/sample - loss: 2.1938 - acc: 0.5977\n",
      "Epoch 51/100\n",
      "15462/15462 [==============================] - 20s 1ms/sample - loss: 2.1529 - acc: 0.6010\n",
      "Epoch 52/100\n",
      "15462/15462 [==============================] - 20s 1ms/sample - loss: 2.1134 - acc: 0.6153\n",
      "Epoch 53/100\n",
      "15462/15462 [==============================] - 20s 1ms/sample - loss: 2.0683 - acc: 0.6250\n",
      "Epoch 54/100\n",
      "15462/15462 [==============================] - 20s 1ms/sample - loss: 2.0322 - acc: 0.6343\n",
      "Epoch 55/100\n",
      "15462/15462 [==============================] - 20s 1ms/sample - loss: 1.9971 - acc: 0.6364\n",
      "Epoch 56/100\n",
      "15462/15462 [==============================] - 20s 1ms/sample - loss: 1.9503 - acc: 0.6488\n",
      "Epoch 57/100\n",
      "15462/15462 [==============================] - 20s 1ms/sample - loss: 1.9074 - acc: 0.6577\n",
      "Epoch 58/100\n",
      "15462/15462 [==============================] - 20s 1ms/sample - loss: 1.8829 - acc: 0.6620\n",
      "Epoch 59/100\n",
      "15462/15462 [==============================] - 20s 1ms/sample - loss: 1.8490 - acc: 0.6702\n",
      "Epoch 60/100\n",
      "15462/15462 [==============================] - 20s 1ms/sample - loss: 1.8017 - acc: 0.6798\n",
      "Epoch 61/100\n",
      "15462/15462 [==============================] - 19s 1ms/sample - loss: 1.7783 - acc: 0.6867\n",
      "Epoch 62/100\n",
      "15462/15462 [==============================] - 20s 1ms/sample - loss: 1.7486 - acc: 0.6936\n",
      "Epoch 63/100\n",
      "15462/15462 [==============================] - 20s 1ms/sample - loss: 1.7167 - acc: 0.6971\n",
      "Epoch 64/100\n",
      "15462/15462 [==============================] - 20s 1ms/sample - loss: 1.7039 - acc: 0.6992\n",
      "Epoch 65/100\n",
      "15462/15462 [==============================] - 20s 1ms/sample - loss: 1.6541 - acc: 0.7136\n",
      "Epoch 66/100\n",
      "15462/15462 [==============================] - 20s 1ms/sample - loss: 1.6317 - acc: 0.7167\n",
      "Epoch 67/100\n",
      "15462/15462 [==============================] - 20s 1ms/sample - loss: 1.6136 - acc: 0.7149\n",
      "Epoch 68/100\n",
      "15462/15462 [==============================] - 20s 1ms/sample - loss: 1.5893 - acc: 0.7247\n",
      "Epoch 69/100\n",
      "15462/15462 [==============================] - 20s 1ms/sample - loss: 1.5654 - acc: 0.7282\n",
      "Epoch 70/100\n",
      "15462/15462 [==============================] - 20s 1ms/sample - loss: 1.5477 - acc: 0.7323\n",
      "Epoch 71/100\n",
      "15462/15462 [==============================] - 20s 1ms/sample - loss: 1.5160 - acc: 0.7398\n",
      "Epoch 72/100\n",
      "15462/15462 [==============================] - 20s 1ms/sample - loss: 1.4921 - acc: 0.7434\n",
      "Epoch 73/100\n",
      "15462/15462 [==============================] - 20s 1ms/sample - loss: 1.4801 - acc: 0.7431\n",
      "Epoch 74/100\n",
      "15462/15462 [==============================] - 20s 1ms/sample - loss: 1.4702 - acc: 0.7449\n",
      "Epoch 75/100\n",
      "15462/15462 [==============================] - 20s 1ms/sample - loss: 1.4537 - acc: 0.7467\n",
      "Epoch 76/100\n",
      "15462/15462 [==============================] - 19s 1ms/sample - loss: 1.4172 - acc: 0.7570\n",
      "Epoch 77/100\n",
      "15462/15462 [==============================] - 20s 1ms/sample - loss: 1.3930 - acc: 0.7617\n",
      "Epoch 78/100\n",
      "15462/15462 [==============================] - 20s 1ms/sample - loss: 1.3683 - acc: 0.7676\n",
      "Epoch 79/100\n",
      "15462/15462 [==============================] - 20s 1ms/sample - loss: 1.3606 - acc: 0.7652\n",
      "Epoch 80/100\n",
      "15462/15462 [==============================] - 20s 1ms/sample - loss: 1.3514 - acc: 0.7689\n",
      "Epoch 81/100\n",
      "15462/15462 [==============================] - 20s 1ms/sample - loss: 1.3496 - acc: 0.7670\n",
      "Epoch 82/100\n",
      "15462/15462 [==============================] - 20s 1ms/sample - loss: 1.3159 - acc: 0.7718\n",
      "Epoch 83/100\n",
      "15462/15462 [==============================] - 20s 1ms/sample - loss: 1.2946 - acc: 0.7775\n",
      "Epoch 84/100\n",
      "15462/15462 [==============================] - 20s 1ms/sample - loss: 1.2976 - acc: 0.7753\n",
      "Epoch 85/100\n",
      "15462/15462 [==============================] - 20s 1ms/sample - loss: 1.2692 - acc: 0.7820\n",
      "Epoch 86/100\n",
      "15462/15462 [==============================] - 20s 1ms/sample - loss: 1.2516 - acc: 0.7845\n",
      "Epoch 87/100\n",
      "15462/15462 [==============================] - 20s 1ms/sample - loss: 1.2466 - acc: 0.7865\n",
      "Epoch 88/100\n",
      "15462/15462 [==============================] - 20s 1ms/sample - loss: 1.2298 - acc: 0.7883\n",
      "Epoch 89/100\n",
      "15462/15462 [==============================] - 20s 1ms/sample - loss: 1.2248 - acc: 0.7879\n",
      "Epoch 90/100\n",
      "15462/15462 [==============================] - 20s 1ms/sample - loss: 1.2008 - acc: 0.7936\n",
      "Epoch 91/100\n",
      "15462/15462 [==============================] - 20s 1ms/sample - loss: 1.1979 - acc: 0.7938\n",
      "Epoch 92/100\n",
      "15462/15462 [==============================] - 23s 1ms/sample - loss: 1.1973 - acc: 0.7903\n",
      "Epoch 93/100\n",
      "15462/15462 [==============================] - 20s 1ms/sample - loss: 1.1844 - acc: 0.7954\n",
      "Epoch 94/100\n",
      "15462/15462 [==============================] - 20s 1ms/sample - loss: 1.1617 - acc: 0.7985\n",
      "Epoch 95/100\n",
      "15462/15462 [==============================] - 20s 1ms/sample - loss: 1.1605 - acc: 0.7985\n",
      "Epoch 96/100\n",
      "15462/15462 [==============================] - 20s 1ms/sample - loss: 1.1448 - acc: 0.7998\n",
      "Epoch 97/100\n",
      "15462/15462 [==============================] - 20s 1ms/sample - loss: 1.1316 - acc: 0.8031\n",
      "Epoch 98/100\n",
      "15462/15462 [==============================] - 20s 1ms/sample - loss: 1.1311 - acc: 0.8006\n",
      "Epoch 99/100\n",
      "15462/15462 [==============================] - 20s 1ms/sample - loss: 1.1261 - acc: 0.8073\n",
      "Epoch 100/100\n",
      "15462/15462 [==============================] - 20s 1ms/sample - loss: 1.1066 - acc: 0.8087\n"
     ]
    }
   ],
   "source": [
    " history = model.fit(predictors, label, epochs=100, verbose=1)"
   ]
  },
  {
   "cell_type": "code",
   "execution_count": 5,
   "metadata": {
    "colab": {
     "base_uri": "https://localhost:8080/",
     "height": 545
    },
    "colab_type": "code",
    "id": "1fXTEO3GJ282",
    "outputId": "ff7636d4-e488-4c1f-ed3a-57657dcbd033"
   },
   "outputs": [
    {
     "data": {
      "image/png": "[encoded data removed]",
      "text/plain": [
       "<Figure size 432x288 with 1 Axes>"
      ]
     },
     "metadata": {
      "tags": []
     },
     "output_type": "display_data"
    },
    {
     "data": {
      "image/png": "[encoded data removed]",
      "text/plain": [
       "<Figure size 432x288 with 1 Axes>"
      ]
     },
     "metadata": {
      "tags": []
     },
     "output_type": "display_data"
    }
   ],
   "source": [
    "import matplotlib.pyplot as plt\n",
    "acc = history.history['acc']\n",
    "loss = history.history['loss']\n",
    "\n",
    "epochs = range(len(acc))\n",
    "\n",
    "plt.plot(epochs, acc, 'b', label='Training accuracy')\n",
    "plt.title('Training accuracy')\n",
    "\n",
    "plt.figure()\n",
    "\n",
    "plt.plot(epochs, loss, 'b', label='Training Loss')\n",
    "plt.title('Training loss')\n",
    "plt.legend()\n",
    "\n",
    "plt.show()"
   ]
  },
  {
   "cell_type": "code",
   "execution_count": 6,
   "metadata": {
    "colab": {
     "base_uri": "https://localhost:8080/",
     "height": 54
    },
    "colab_type": "code",
    "id": "6Vc6PHgxa6Hm",
    "outputId": "e40a7ccd-6e93-4792-fcca-9ec7f473338a"
   },
   "outputs": [
    {
     "name": "stdout",
     "output_type": "stream",
     "text": [
      "Help me Obi Wan Kenobi, you're my only hope or stay me men exceed dyed seen nought lived much arising quite seen care life borrow'd worth alone bright back away tongue bearing youth now live dear ill green seeming thee praise tell it green thee hate care to sort thought forth find best green room woe back another lie to thee me you bright prove thee write me true bright told men told it speaking on rest scope did bar keep 'tis you warm'd see bearing one twain ' seen none spend ride about light halt bearing age crime told truth hast most most we young now prove thee\n"
     ]
    }
   ],
   "source": [
    "seed_text = \"Help me Obi Wan Kenobi, you're my only hope\"\n",
    "next_words = 100\n",
    "  \n",
    "for _ in range(next_words):\n",
    "\ttoken_list = tokenizer.texts_to_sequences([seed_text])[0]\n",
    "\ttoken_list = pad_sequences([token_list], maxlen=max_sequence_len-1, padding='pre')\n",
    "\tpredicted = model.predict_classes(token_list, verbose=0)\n",
    "\toutput_word = \"\"\n",
    "\tfor word, index in tokenizer.word_index.items():\n",
    "\t\tif index == predicted:\n",
    "\t\t\toutput_word = word\n",
    "\t\t\tbreak\n",
    "\tseed_text += \" \" + output_word\n",
    "print(seed_text)"
   ]
  },
  {
   "cell_type": "code",
   "execution_count": null,
   "metadata": {
    "colab": {},
    "colab_type": "code",
    "id": "jRqZ9h2SLiuX"
   },
   "outputs": [],
   "source": []
  }
 ],
 "metadata": {
  "accelerator": "GPU",
  "colab": {
   "name": "NLP_Week4_Exercise_Shakespeare_Answer.ipynb",
   "provenance": []
  },
  "kernelspec": {
   "display_name": "Python 3",
   "language": "python",
   "name": "python3"
  },
  "language_info": {
   "codemirror_mode": {
    "name": "ipython",
    "version": 3
   },
   "file_extension": ".py",
   "mimetype": "text/x-python",
   "name": "python",
   "nbconvert_exporter": "python",
   "pygments_lexer": "ipython3",
   "version": "3.8.1"
  }
 },
 "nbformat": 4,
 "nbformat_minor": 4
}

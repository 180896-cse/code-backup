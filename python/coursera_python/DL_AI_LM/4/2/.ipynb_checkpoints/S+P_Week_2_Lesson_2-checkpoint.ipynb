{
 "cells": [
  {
   "cell_type": "code",
   "execution_count": 2,
   "metadata": {
    "colab": {
     "base_uri": "https://localhost:8080/",
     "height": 1000
    },
    "colab_type": "code",
    "id": "D1J15Vh_1Jih",
    "outputId": "0bad0eae-f740-4616-ed51-04f0bb8da3ff"
   },
   "outputs": [
    {
     "name": "stdout",
     "output_type": "stream",
     "text": [
      "Collecting tensorflow\n",
      "\u001b[?25l  Downloading https://files.pythonhosted.org/packages/46/0f/7bd55361168bb32796b360ad15a25de6966c9c1beb58a8e30c01c8279862/tensorflow-2.0.0-cp36-cp36m-manylinux2010_x86_64.whl (86.3MB)\n",
      "\u001b[K     |████████████████████████████████| 86.3MB 46kB/s \n",
      "\u001b[?25hRequirement already satisfied, skipping upgrade: six>=1.10.0 in /usr/local/lib/python3.6/dist-packages (from tensorflow) (1.12.0)\n",
      "Requirement already satisfied, skipping upgrade: termcolor>=1.1.0 in /usr/local/lib/python3.6/dist-packages (from tensorflow) (1.1.0)\n",
      "Requirement already satisfied, skipping upgrade: grpcio>=1.8.6 in /usr/local/lib/python3.6/dist-packages (from tensorflow) (1.15.0)\n",
      "Requirement already satisfied, skipping upgrade: opt-einsum>=2.3.2 in /usr/local/lib/python3.6/dist-packages (from tensorflow) (3.1.0)\n",
      "Requirement already satisfied, skipping upgrade: keras-preprocessing>=1.0.5 in /usr/local/lib/python3.6/dist-packages (from tensorflow) (1.1.0)\n",
      "Requirement already satisfied, skipping upgrade: wheel>=0.26 in /usr/local/lib/python3.6/dist-packages (from tensorflow) (0.33.6)\n",
      "Collecting tensorboard<2.1.0,>=2.0.0\n",
      "\u001b[?25l  Downloading https://files.pythonhosted.org/packages/76/54/99b9d5d52d5cb732f099baaaf7740403e83fe6b0cedde940fabd2b13d75a/tensorboard-2.0.2-py3-none-any.whl (3.8MB)\n",
      "\u001b[K     |████████████████████████████████| 3.8MB 28.5MB/s \n",
      "\u001b[?25hRequirement already satisfied, skipping upgrade: absl-py>=0.7.0 in /usr/local/lib/python3.6/dist-packages (from tensorflow) (0.8.1)\n",
      "Requirement already satisfied, skipping upgrade: numpy<2.0,>=1.16.0 in /usr/local/lib/python3.6/dist-packages (from tensorflow) (1.17.4)\n",
      "Requirement already satisfied, skipping upgrade: astor>=0.6.0 in /usr/local/lib/python3.6/dist-packages (from tensorflow) (0.8.1)\n",
      "Requirement already satisfied, skipping upgrade: google-pasta>=0.1.6 in /usr/local/lib/python3.6/dist-packages (from tensorflow) (0.1.8)\n",
      "Requirement already satisfied, skipping upgrade: keras-applications>=1.0.8 in /usr/local/lib/python3.6/dist-packages (from tensorflow) (1.0.8)\n",
      "Collecting tensorflow-estimator<2.1.0,>=2.0.0\n",
      "\u001b[?25l  Downloading https://files.pythonhosted.org/packages/fc/08/8b927337b7019c374719145d1dceba21a8bb909b93b1ad6f8fb7d22c1ca1/tensorflow_estimator-2.0.1-py2.py3-none-any.whl (449kB)\n",
      "\u001b[K     |████████████████████████████████| 450kB 49.6MB/s \n",
      "\u001b[?25hRequirement already satisfied, skipping upgrade: protobuf>=3.6.1 in /usr/local/lib/python3.6/dist-packages (from tensorflow) (3.10.0)\n",
      "Requirement already satisfied, skipping upgrade: wrapt>=1.11.1 in /usr/local/lib/python3.6/dist-packages (from tensorflow) (1.11.2)\n",
      "Requirement already satisfied, skipping upgrade: gast==0.2.2 in /usr/local/lib/python3.6/dist-packages (from tensorflow) (0.2.2)\n",
      "Requirement already satisfied, skipping upgrade: markdown>=2.6.8 in /usr/local/lib/python3.6/dist-packages (from tensorboard<2.1.0,>=2.0.0->tensorflow) (3.1.1)\n",
      "Requirement already satisfied, skipping upgrade: google-auth-oauthlib<0.5,>=0.4.1 in /usr/local/lib/python3.6/dist-packages (from tensorboard<2.1.0,>=2.0.0->tensorflow) (0.4.1)\n",
      "Collecting google-auth<2,>=1.6.3\n",
      "\u001b[?25l  Downloading https://files.pythonhosted.org/packages/36/f8/84b5771faec3eba9fe0c91c8c5896364a8ba08852c0dea5ad2025026dd95/google_auth-1.10.0-py2.py3-none-any.whl (76kB)\n",
      "\u001b[K     |████████████████████████████████| 81kB 10.0MB/s \n",
      "\u001b[?25hRequirement already satisfied, skipping upgrade: setuptools>=41.0.0 in /usr/local/lib/python3.6/dist-packages (from tensorboard<2.1.0,>=2.0.0->tensorflow) (42.0.2)\n",
      "Requirement already satisfied, skipping upgrade: werkzeug>=0.11.15 in /usr/local/lib/python3.6/dist-packages (from tensorboard<2.1.0,>=2.0.0->tensorflow) (0.16.0)\n",
      "Requirement already satisfied, skipping upgrade: requests<3,>=2.21.0 in /usr/local/lib/python3.6/dist-packages (from tensorboard<2.1.0,>=2.0.0->tensorflow) (2.21.0)\n",
      "Requirement already satisfied, skipping upgrade: h5py in /usr/local/lib/python3.6/dist-packages (from keras-applications>=1.0.8->tensorflow) (2.8.0)\n",
      "Requirement already satisfied, skipping upgrade: requests-oauthlib>=0.7.0 in /usr/local/lib/python3.6/dist-packages (from google-auth-oauthlib<0.5,>=0.4.1->tensorboard<2.1.0,>=2.0.0->tensorflow) (1.3.0)\n",
      "Requirement already satisfied, skipping upgrade: pyasn1-modules>=0.2.1 in /usr/local/lib/python3.6/dist-packages (from google-auth<2,>=1.6.3->tensorboard<2.1.0,>=2.0.0->tensorflow) (0.2.7)\n",
      "Requirement already satisfied, skipping upgrade: cachetools<5.0,>=2.0.0 in /usr/local/lib/python3.6/dist-packages (from google-auth<2,>=1.6.3->tensorboard<2.1.0,>=2.0.0->tensorflow) (4.0.0)\n",
      "Requirement already satisfied, skipping upgrade: rsa<4.1,>=3.1.4 in /usr/local/lib/python3.6/dist-packages (from google-auth<2,>=1.6.3->tensorboard<2.1.0,>=2.0.0->tensorflow) (4.0)\n",
      "Requirement already satisfied, skipping upgrade: certifi>=2017.4.17 in /usr/local/lib/python3.6/dist-packages (from requests<3,>=2.21.0->tensorboard<2.1.0,>=2.0.0->tensorflow) (2019.11.28)\n",
      "Requirement already satisfied, skipping upgrade: urllib3<1.25,>=1.21.1 in /usr/local/lib/python3.6/dist-packages (from requests<3,>=2.21.0->tensorboard<2.1.0,>=2.0.0->tensorflow) (1.24.3)\n",
      "Requirement already satisfied, skipping upgrade: idna<2.9,>=2.5 in /usr/local/lib/python3.6/dist-packages (from requests<3,>=2.21.0->tensorboard<2.1.0,>=2.0.0->tensorflow) (2.8)\n",
      "Requirement already satisfied, skipping upgrade: chardet<3.1.0,>=3.0.2 in /usr/local/lib/python3.6/dist-packages (from requests<3,>=2.21.0->tensorboard<2.1.0,>=2.0.0->tensorflow) (3.0.4)\n",
      "Requirement already satisfied, skipping upgrade: oauthlib>=3.0.0 in /usr/local/lib/python3.6/dist-packages (from requests-oauthlib>=0.7.0->google-auth-oauthlib<0.5,>=0.4.1->tensorboard<2.1.0,>=2.0.0->tensorflow) (3.1.0)\n",
      "Requirement already satisfied, skipping upgrade: pyasn1<0.5.0,>=0.4.6 in /usr/local/lib/python3.6/dist-packages (from pyasn1-modules>=0.2.1->google-auth<2,>=1.6.3->tensorboard<2.1.0,>=2.0.0->tensorflow) (0.4.8)\n",
      "\u001b[31mERROR: tensorboard 2.0.2 has requirement grpcio>=1.24.3, but you'll have grpcio 1.15.0 which is incompatible.\u001b[0m\n",
      "\u001b[31mERROR: google-colab 1.0.0 has requirement google-auth~=1.4.0, but you'll have google-auth 1.10.0 which is incompatible.\u001b[0m\n",
      "Installing collected packages: google-auth, tensorboard, tensorflow-estimator, tensorflow\n",
      "  Found existing installation: google-auth 1.4.2\n",
      "    Uninstalling google-auth-1.4.2:\n",
      "      Successfully uninstalled google-auth-1.4.2\n",
      "  Found existing installation: tensorboard 1.15.0\n",
      "    Uninstalling tensorboard-1.15.0:\n",
      "      Successfully uninstalled tensorboard-1.15.0\n",
      "  Found existing installation: tensorflow-estimator 1.15.1\n",
      "    Uninstalling tensorflow-estimator-1.15.1:\n",
      "      Successfully uninstalled tensorflow-estimator-1.15.1\n",
      "  Found existing installation: tensorflow 1.15.0\n",
      "    Uninstalling tensorflow-1.15.0:\n",
      "      Successfully uninstalled tensorflow-1.15.0\n",
      "Successfully installed google-auth-1.10.0 tensorboard-2.0.2 tensorflow-2.0.0 tensorflow-estimator-2.0.1\n"
     ]
    },
    {
     "data": {
      "application/vnd.colab-display-data+json": {
       "pip_warning": {
        "packages": [
         "google",
         "tensorboard",
         "tensorflow",
         "tensorflow_core",
         "tensorflow_estimator"
        ]
       }
      }
     },
     "metadata": {
      "tags": []
     },
     "output_type": "display_data"
    }
   ],
   "source": [
    "!pip install -U tensorflow\n"
   ]
  },
  {
   "cell_type": "code",
   "execution_count": 1,
   "metadata": {
    "colab": {
     "base_uri": "https://localhost:8080/",
     "height": 34
    },
    "colab_type": "code",
    "id": "BOjujz601HcS",
    "outputId": "a2635094-d635-4eea-8867-ad75cbf4cf9a"
   },
   "outputs": [
    {
     "name": "stdout",
     "output_type": "stream",
     "text": [
      "2.0.0\n"
     ]
    }
   ],
   "source": [
    "import tensorflow as tf\n",
    "import numpy as np\n",
    "import matplotlib.pyplot as plt\n",
    "print(tf.__version__)"
   ]
  },
  {
   "cell_type": "code",
   "execution_count": 0,
   "metadata": {
    "colab": {},
    "colab_type": "code",
    "id": "Zswl7jRtGzkk"
   },
   "outputs": [],
   "source": [
    "def plot_series(time, series, format=\"-\", start=0, end=None):\n",
    "    plt.plot(time[start:end], series[start:end], format)\n",
    "    plt.xlabel(\"Time\")\n",
    "    plt.ylabel(\"Value\")\n",
    "    plt.grid(True)\n",
    "\n",
    "def trend(time, slope=0):\n",
    "    return slope * time\n",
    "\n",
    "def seasonal_pattern(season_time):\n",
    "    \"\"\"Just an arbitrary pattern, you can change it if you wish\"\"\"\n",
    "    return np.where(season_time < 0.4,\n",
    "                    np.cos(season_time * 2 * np.pi),\n",
    "                    1 / np.exp(3 * season_time))\n",
    "\n",
    "def seasonality(time, period, amplitude=1, phase=0):\n",
    "    \"\"\"Repeats the same pattern at each period\"\"\"\n",
    "    season_time = ((time + phase) % period) / period\n",
    "    return amplitude * seasonal_pattern(season_time)\n",
    "\n",
    "def noise(time, noise_level=1, seed=None):\n",
    "    rnd = np.random.RandomState(seed)\n",
    "    return rnd.randn(len(time)) * noise_level\n",
    "\n",
    "time = np.arange(4 * 365 + 1, dtype=\"float32\")\n",
    "baseline = 10\n",
    "series = trend(time, 0.1)  \n",
    "baseline = 10\n",
    "amplitude = 40\n",
    "slope = 0.05\n",
    "noise_level = 5\n",
    "\n",
    "# Create the series\n",
    "series = baseline + trend(time, slope) + seasonality(time, period=365, amplitude=amplitude)\n",
    "# Update with noise\n",
    "series += noise(time, noise_level, seed=42)\n",
    "\n",
    "split_time = 1000\n",
    "time_train = time[:split_time]\n",
    "x_train = series[:split_time]\n",
    "time_valid = time[split_time:]\n",
    "x_valid = series[split_time:]\n",
    "\n",
    "window_size = 20\n",
    "batch_size = 32\n",
    "shuffle_buffer_size = 1000"
   ]
  },
  {
   "cell_type": "code",
   "execution_count": 0,
   "metadata": {
    "colab": {},
    "colab_type": "code",
    "id": "4sTTIOCbyShY"
   },
   "outputs": [],
   "source": [
    "def windowed_dataset(series, window_size, batch_size, shuffle_buffer):\n",
    "  dataset = tf.data.Dataset.from_tensor_slices(series)\n",
    "  dataset = dataset.window(window_size + 1, shift=1, drop_remainder=True)\n",
    "  dataset = dataset.flat_map(lambda window: window.batch(window_size + 1))\n",
    "  dataset = dataset.shuffle(shuffle_buffer).map(lambda window: (window[:-1], window[-1]))\n",
    "  dataset = dataset.batch(batch_size).prefetch(1)\n",
    "  return dataset"
   ]
  },
  {
   "cell_type": "code",
   "execution_count": 8,
   "metadata": {
    "colab": {
     "base_uri": "https://localhost:8080/",
     "height": 1000
    },
    "colab_type": "code",
    "id": "ou-WmE2AXu6B",
    "outputId": "041b588c-03b8-47f1-afd1-868fbf700a41"
   },
   "outputs": [
    {
     "name": "stdout",
     "output_type": "stream",
     "text": [
      "<PrefetchDataset shapes: ((None, None), (None,)), types: (tf.float32, tf.float32)>\n",
      "Epoch 1/100\n",
      "31/31 [==============================] - 1s 18ms/step - loss: 1374.0806\n",
      "Epoch 2/100\n",
      "31/31 [==============================] - 0s 8ms/step - loss: 114.8921\n",
      "Epoch 3/100\n",
      "31/31 [==============================] - 0s 8ms/step - loss: 111.0882\n",
      "Epoch 4/100\n",
      "31/31 [==============================] - 0s 7ms/step - loss: 110.8860\n",
      "Epoch 5/100\n",
      "31/31 [==============================] - 0s 7ms/step - loss: 109.1422\n",
      "Epoch 6/100\n",
      "31/31 [==============================] - 0s 8ms/step - loss: 105.8720\n",
      "Epoch 7/100\n",
      "31/31 [==============================] - 0s 7ms/step - loss: 105.1509\n",
      "Epoch 8/100\n",
      "31/31 [==============================] - 0s 7ms/step - loss: 101.4981\n",
      "Epoch 9/100\n",
      "31/31 [==============================] - 0s 7ms/step - loss: 101.3508\n",
      "Epoch 10/100\n",
      "31/31 [==============================] - 0s 8ms/step - loss: 97.7611\n",
      "Epoch 11/100\n",
      "31/31 [==============================] - 0s 7ms/step - loss: 99.8002\n",
      "Epoch 12/100\n",
      "31/31 [==============================] - 0s 8ms/step - loss: 97.5377\n",
      "Epoch 13/100\n",
      "31/31 [==============================] - 0s 7ms/step - loss: 96.4835\n",
      "Epoch 14/100\n",
      "31/31 [==============================] - 0s 7ms/step - loss: 95.9054\n",
      "Epoch 15/100\n",
      "31/31 [==============================] - 0s 8ms/step - loss: 91.2590\n",
      "Epoch 16/100\n",
      "31/31 [==============================] - 0s 8ms/step - loss: 94.1833\n",
      "Epoch 17/100\n",
      "31/31 [==============================] - 0s 8ms/step - loss: 91.6318\n",
      "Epoch 18/100\n",
      "31/31 [==============================] - 0s 8ms/step - loss: 92.0323\n",
      "Epoch 19/100\n",
      "31/31 [==============================] - 0s 7ms/step - loss: 89.0634\n",
      "Epoch 20/100\n",
      "31/31 [==============================] - 0s 8ms/step - loss: 88.8962\n",
      "Epoch 21/100\n",
      "31/31 [==============================] - 0s 7ms/step - loss: 90.0145\n",
      "Epoch 22/100\n",
      "31/31 [==============================] - 0s 7ms/step - loss: 88.3843\n",
      "Epoch 23/100\n",
      "31/31 [==============================] - 0s 7ms/step - loss: 87.1205\n",
      "Epoch 24/100\n",
      "31/31 [==============================] - 0s 8ms/step - loss: 87.3806\n",
      "Epoch 25/100\n",
      "31/31 [==============================] - 0s 8ms/step - loss: 86.1225\n",
      "Epoch 26/100\n",
      "31/31 [==============================] - 0s 8ms/step - loss: 85.0071\n",
      "Epoch 27/100\n",
      "31/31 [==============================] - 0s 7ms/step - loss: 85.4733\n",
      "Epoch 28/100\n",
      "31/31 [==============================] - 0s 7ms/step - loss: 83.6332\n",
      "Epoch 29/100\n",
      "31/31 [==============================] - 0s 7ms/step - loss: 83.8298\n",
      "Epoch 30/100\n",
      "31/31 [==============================] - 0s 7ms/step - loss: 83.2114\n",
      "Epoch 31/100\n",
      "31/31 [==============================] - 0s 8ms/step - loss: 82.3758\n",
      "Epoch 32/100\n",
      "31/31 [==============================] - 0s 8ms/step - loss: 82.1278\n",
      "Epoch 33/100\n",
      "31/31 [==============================] - 0s 8ms/step - loss: 82.1141\n",
      "Epoch 34/100\n",
      "31/31 [==============================] - 0s 7ms/step - loss: 81.5564\n",
      "Epoch 35/100\n",
      "31/31 [==============================] - 0s 8ms/step - loss: 80.5011\n",
      "Epoch 36/100\n",
      "31/31 [==============================] - 0s 7ms/step - loss: 79.8955\n",
      "Epoch 37/100\n",
      "31/31 [==============================] - 0s 7ms/step - loss: 79.9260\n",
      "Epoch 38/100\n",
      "31/31 [==============================] - 0s 8ms/step - loss: 78.0737\n",
      "Epoch 39/100\n",
      "31/31 [==============================] - 0s 8ms/step - loss: 77.7034\n",
      "Epoch 40/100\n",
      "31/31 [==============================] - 0s 8ms/step - loss: 76.1618\n",
      "Epoch 41/100\n",
      "31/31 [==============================] - 0s 8ms/step - loss: 77.0880\n",
      "Epoch 42/100\n",
      "31/31 [==============================] - 0s 8ms/step - loss: 77.0179\n",
      "Epoch 43/100\n",
      "31/31 [==============================] - 0s 7ms/step - loss: 76.5468\n",
      "Epoch 44/100\n",
      "31/31 [==============================] - 0s 7ms/step - loss: 75.8904\n",
      "Epoch 45/100\n",
      "31/31 [==============================] - 0s 7ms/step - loss: 75.1137\n",
      "Epoch 46/100\n",
      "31/31 [==============================] - 0s 7ms/step - loss: 75.3155\n",
      "Epoch 47/100\n",
      "31/31 [==============================] - 0s 7ms/step - loss: 74.7109\n",
      "Epoch 48/100\n",
      "31/31 [==============================] - 0s 7ms/step - loss: 74.9829\n",
      "Epoch 49/100\n",
      "31/31 [==============================] - 0s 7ms/step - loss: 74.3478\n",
      "Epoch 50/100\n",
      "31/31 [==============================] - 0s 7ms/step - loss: 73.3480\n",
      "Epoch 51/100\n",
      "31/31 [==============================] - 0s 8ms/step - loss: 73.2846\n",
      "Epoch 52/100\n",
      "31/31 [==============================] - 0s 8ms/step - loss: 73.1945\n",
      "Epoch 53/100\n",
      "31/31 [==============================] - 0s 7ms/step - loss: 73.0818\n",
      "Epoch 54/100\n",
      "31/31 [==============================] - 0s 8ms/step - loss: 72.2585\n",
      "Epoch 55/100\n",
      "31/31 [==============================] - 0s 7ms/step - loss: 70.2896\n",
      "Epoch 56/100\n",
      "31/31 [==============================] - 0s 7ms/step - loss: 71.9967\n",
      "Epoch 57/100\n",
      "31/31 [==============================] - 0s 7ms/step - loss: 71.2873\n",
      "Epoch 58/100\n",
      "31/31 [==============================] - 0s 8ms/step - loss: 71.4589\n",
      "Epoch 59/100\n",
      "31/31 [==============================] - 0s 7ms/step - loss: 70.8445\n",
      "Epoch 60/100\n",
      "31/31 [==============================] - 0s 8ms/step - loss: 70.7617\n",
      "Epoch 61/100\n",
      "31/31 [==============================] - 0s 8ms/step - loss: 70.2440\n",
      "Epoch 62/100\n",
      "31/31 [==============================] - 0s 8ms/step - loss: 69.7526\n",
      "Epoch 63/100\n",
      "31/31 [==============================] - 0s 7ms/step - loss: 68.9468\n",
      "Epoch 64/100\n",
      "31/31 [==============================] - 0s 8ms/step - loss: 69.1428\n",
      "Epoch 65/100\n",
      "31/31 [==============================] - 0s 8ms/step - loss: 68.0348\n",
      "Epoch 66/100\n",
      "31/31 [==============================] - 0s 8ms/step - loss: 68.7521\n",
      "Epoch 67/100\n",
      "31/31 [==============================] - 0s 8ms/step - loss: 67.7679\n",
      "Epoch 68/100\n",
      "31/31 [==============================] - 0s 8ms/step - loss: 67.6991\n",
      "Epoch 69/100\n",
      "31/31 [==============================] - 0s 7ms/step - loss: 67.7126\n",
      "Epoch 70/100\n",
      "31/31 [==============================] - 0s 7ms/step - loss: 67.4262\n",
      "Epoch 71/100\n",
      "31/31 [==============================] - 0s 8ms/step - loss: 66.4756\n",
      "Epoch 72/100\n",
      "31/31 [==============================] - 0s 8ms/step - loss: 67.2352\n",
      "Epoch 73/100\n",
      "31/31 [==============================] - 0s 7ms/step - loss: 66.7540\n",
      "Epoch 74/100\n",
      "31/31 [==============================] - 0s 8ms/step - loss: 66.8675\n",
      "Epoch 75/100\n",
      "31/31 [==============================] - 0s 8ms/step - loss: 66.1435\n",
      "Epoch 76/100\n",
      "31/31 [==============================] - 0s 8ms/step - loss: 66.2850\n",
      "Epoch 77/100\n",
      "31/31 [==============================] - 0s 7ms/step - loss: 65.7465\n",
      "Epoch 78/100\n",
      "31/31 [==============================] - 0s 7ms/step - loss: 65.3302\n",
      "Epoch 79/100\n",
      "31/31 [==============================] - 0s 8ms/step - loss: 65.2843\n",
      "Epoch 80/100\n",
      "31/31 [==============================] - 0s 8ms/step - loss: 64.7649\n",
      "Epoch 81/100\n",
      "31/31 [==============================] - 0s 7ms/step - loss: 64.3057\n",
      "Epoch 82/100\n",
      "31/31 [==============================] - 0s 8ms/step - loss: 64.9201\n",
      "Epoch 83/100\n",
      "31/31 [==============================] - 0s 8ms/step - loss: 64.8959\n",
      "Epoch 84/100\n",
      "31/31 [==============================] - 0s 8ms/step - loss: 64.0051\n",
      "Epoch 85/100\n",
      "31/31 [==============================] - 0s 7ms/step - loss: 63.8638\n",
      "Epoch 86/100\n",
      "31/31 [==============================] - 0s 7ms/step - loss: 62.1801\n",
      "Epoch 87/100\n",
      "31/31 [==============================] - 0s 8ms/step - loss: 61.3151\n",
      "Epoch 88/100\n",
      "31/31 [==============================] - 0s 8ms/step - loss: 63.7687\n",
      "Epoch 89/100\n",
      "31/31 [==============================] - 0s 7ms/step - loss: 63.5671\n",
      "Epoch 90/100\n",
      "31/31 [==============================] - 0s 7ms/step - loss: 63.2403\n",
      "Epoch 91/100\n",
      "31/31 [==============================] - 0s 8ms/step - loss: 62.6862\n",
      "Epoch 92/100\n",
      "31/31 [==============================] - 0s 8ms/step - loss: 62.6174\n",
      "Epoch 93/100\n",
      "31/31 [==============================] - 0s 8ms/step - loss: 62.4854\n",
      "Epoch 94/100\n",
      "31/31 [==============================] - 0s 7ms/step - loss: 62.3177\n",
      "Epoch 95/100\n",
      "31/31 [==============================] - 0s 7ms/step - loss: 62.3445\n",
      "Epoch 96/100\n",
      "31/31 [==============================] - 0s 8ms/step - loss: 59.9291\n",
      "Epoch 97/100\n",
      "31/31 [==============================] - 0s 8ms/step - loss: 61.8470\n",
      "Epoch 98/100\n",
      "31/31 [==============================] - 0s 7ms/step - loss: 61.3856\n",
      "Epoch 99/100\n",
      "31/31 [==============================] - 0s 8ms/step - loss: 61.0938\n",
      "Epoch 100/100\n",
      "31/31 [==============================] - 0s 7ms/step - loss: 61.1706\n",
      "Layer weights [array([[ 0.01855845],\n",
      "       [-0.06778093],\n",
      "       [-0.10298252],\n",
      "       [ 0.1597067 ],\n",
      "       [ 0.06332721],\n",
      "       [-0.13269909],\n",
      "       [-0.21553819],\n",
      "       [ 0.03839294],\n",
      "       [ 0.20697999],\n",
      "       [ 0.3136211 ],\n",
      "       [-0.29004773],\n",
      "       [ 0.1439025 ],\n",
      "       [-0.10547376],\n",
      "       [ 0.06475943],\n",
      "       [ 0.07001469],\n",
      "       [-0.13500889],\n",
      "       [-0.18254414],\n",
      "       [ 0.49278718],\n",
      "       [ 0.48060116],\n",
      "       [ 0.1737215 ]], dtype=float32), array([0.00737443], dtype=float32)]\n"
     ]
    }
   ],
   "source": [
    "dataset = windowed_dataset(x_train, window_size, batch_size, shuffle_buffer_size)\n",
    "print(dataset)\n",
    "l0 = tf.keras.layers.Dense(1, input_shape=[window_size])\n",
    "model = tf.keras.models.Sequential([l0])\n",
    "\n",
    "\n",
    "model.compile(loss=\"mse\", optimizer=tf.keras.optimizers.SGD(lr=1e-6, momentum=0.6))\n",
    "history = model.fit(dataset,epochs=100,verbose=1)\n",
    "\n",
    "print(\"Layer weights {}\".format(l0.get_weights()))\n",
    "\n"
   ]
  },
  {
   "cell_type": "code",
   "execution_count": 10,
   "metadata": {
    "colab": {
     "base_uri": "https://localhost:8080/",
     "height": 388
    },
    "colab_type": "code",
    "id": "-gtVJuLVxR-M",
    "outputId": "dba0e68b-7f15-40e2-c7be-10f4fb374277"
   },
   "outputs": [
    {
     "data": {
      "image/png": "[encoded data removed]",
      "text/plain": [
       "<Figure size 720x432 with 1 Axes>"
      ]
     },
     "metadata": {
      "tags": []
     },
     "output_type": "display_data"
    }
   ],
   "source": [
    "forecast = []\n",
    "\n",
    "for time in range(len(series) - window_size):\n",
    "  forecast.append(model.predict(series[time:time + window_size][np.newaxis]))\n",
    "\n",
    "forecast = forecast[split_time-window_size:]\n",
    "results = np.array(forecast)[:, 0, 0]\n",
    "\n",
    "\n",
    "plt.figure(figsize=(10, 6))\n",
    "\n",
    "plot_series(time_valid, x_valid)\n",
    "plot_series(time_valid, results)"
   ]
  },
  {
   "cell_type": "code",
   "execution_count": 11,
   "metadata": {
    "colab": {
     "base_uri": "https://localhost:8080/",
     "height": 34
    },
    "colab_type": "code",
    "id": "hR2BO0Dai_ZT",
    "outputId": "e05522d1-37f9-47e8-8a63-e991d7350577"
   },
   "outputs": [
    {
     "data": {
      "text/plain": [
       "5.8625264"
      ]
     },
     "execution_count": 11,
     "metadata": {
      "tags": []
     },
     "output_type": "execute_result"
    }
   ],
   "source": [
    "tf.keras.metrics.mean_absolute_error(x_valid, results).numpy()"
   ]
  },
  {
   "cell_type": "code",
   "execution_count": 0,
   "metadata": {
    "colab": {},
    "colab_type": "code",
    "id": "3MuKa8WJJKs0"
   },
   "outputs": [],
   "source": []
  }
 ],
 "metadata": {
  "accelerator": "GPU",
  "colab": {
   "name": "S+P Week 2 Lesson 2.ipynb",
   "provenance": []
  },
  "kernelspec": {
   "display_name": "Python 3",
   "language": "python",
   "name": "python3"
  },
  "language_info": {
   "codemirror_mode": {
    "name": "ipython",
    "version": 3
   },
   "file_extension": ".py",
   "mimetype": "text/x-python",
   "name": "python",
   "nbconvert_exporter": "python",
   "pygments_lexer": "ipython3",
   "version": "3.8.1"
  }
 },
 "nbformat": 4,
 "nbformat_minor": 1
}

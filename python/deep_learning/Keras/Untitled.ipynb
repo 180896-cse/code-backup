{
 "cells": [
  {
   "cell_type": "code",
   "execution_count": 1,
   "metadata": {},
   "outputs": [
    {
     "name": "stderr",
     "output_type": "stream",
     "text": [
      "Using TensorFlow backend.\n"
     ]
    },
    {
     "name": "stdout",
     "output_type": "stream",
     "text": [
      "Downloading data from https://s3.amazonaws.com/img-datasets/mnist.npz\n",
      "11493376/11490434 [==============================] - 17s 2us/step\n"
     ]
    }
   ],
   "source": [
    "from keras.datasets import mnist\n",
    "(X_train, y_train), (X_test, y_test) = mnist.load_data()"
   ]
  },
  {
   "cell_type": "code",
   "execution_count": 2,
   "metadata": {},
   "outputs": [
    {
     "name": "stderr",
     "output_type": "stream",
     "text": [
      "/usr/lib/python3.7/site-packages/ipykernel_launcher.py:29: DeprecationWarning: `imsave` is deprecated!\n",
      "`imsave` is deprecated in SciPy 1.0.0, and will be removed in 1.2.0.\n",
      "Use ``imageio.imwrite`` instead.\n"
     ]
    }
   ],
   "source": [
    "from keras.datasets import mnist\n",
    "from scipy.misc import imsave\n",
    "import numpy as np\n",
    "import math\n",
    "\n",
    "(X_train, y_train), (X_test, y_test) = mnist.load_data()\n",
    "\n",
    "#generate a separate image for training and test sets\n",
    "for (dataset, name) in [(X_train, \"mnist_train\"), (X_test, \"mnist_test\")]:\n",
    "\n",
    "    #We will make a square grid which can contain s*s images\n",
    "    s = math.ceil(math.sqrt(dataset.shape[0]))\n",
    "    #Our image will be of size w*h. In the case of MNIST w=h\n",
    "    w = s*dataset.shape[1]\n",
    "    h = s*dataset.shape[2]\n",
    "\n",
    "    #Create empty tensor\n",
    "    allimgs = np.empty([w, h])\n",
    "\n",
    "    #Fill the newly created tensor\n",
    "    for index in range(dataset.shape[0]):\n",
    "        iOffset = (index%s)*dataset.shape[1] #remainder of the Euclidian division\n",
    "        jOffset = (index//s)*dataset.shape[2] #quotient of the Euclidian division\n",
    "        for i in range(dataset.shape[1]):\n",
    "            for j in range(dataset.shape[2]):\n",
    "                allimgs[iOffset+i,jOffset+j] = dataset[index, i, j] #Copy the pixel value\n",
    "\n",
    "    #Generate the image\n",
    "    imsave(name+\".png\", allimgs)"
   ]
  },
  {
   "cell_type": "code",
   "execution_count": 3,
   "metadata": {},
   "outputs": [
    {
     "name": "stdout",
     "output_type": "stream",
     "text": [
      "60000 train samples\n",
      "10000 test samples\n"
     ]
    },
    {
     "name": "stderr",
     "output_type": "stream",
     "text": [
      "/usr/lib/python3.7/site-packages/ipykernel_launcher.py:56: UserWarning: The `nb_epoch` argument in `fit` has been renamed `epochs`.\n"
     ]
    },
    {
     "name": "stdout",
     "output_type": "stream",
     "text": [
      "Train on 60000 samples, validate on 10000 samples\n",
      "Epoch 1/20\n",
      " - 15s - loss: 0.2434 - acc: 0.9246 - val_loss: 0.1151 - val_acc: 0.9645\n",
      "Epoch 2/20\n",
      " - 14s - loss: 0.1006 - acc: 0.9696 - val_loss: 0.0896 - val_acc: 0.9738\n",
      "Epoch 3/20\n",
      " - 13s - loss: 0.0751 - acc: 0.9774 - val_loss: 0.0841 - val_acc: 0.9762\n",
      "Epoch 4/20\n",
      " - 12s - loss: 0.0612 - acc: 0.9817 - val_loss: 0.0981 - val_acc: 0.9738\n",
      "Epoch 5/20\n",
      " - 12s - loss: 0.0494 - acc: 0.9856 - val_loss: 0.0800 - val_acc: 0.9789\n",
      "Epoch 6/20\n",
      " - 13s - loss: 0.0444 - acc: 0.9865 - val_loss: 0.0874 - val_acc: 0.9771\n",
      "Epoch 7/20\n",
      " - 12s - loss: 0.0375 - acc: 0.9886 - val_loss: 0.0853 - val_acc: 0.9813\n",
      "Epoch 8/20\n",
      " - 13s - loss: 0.0355 - acc: 0.9896 - val_loss: 0.0875 - val_acc: 0.9820\n",
      "Epoch 9/20\n",
      " - 12s - loss: 0.0324 - acc: 0.9907 - val_loss: 0.0908 - val_acc: 0.9803\n",
      "Epoch 10/20\n",
      " - 13s - loss: 0.0284 - acc: 0.9919 - val_loss: 0.0934 - val_acc: 0.9811\n",
      "Epoch 11/20\n",
      " - 13s - loss: 0.0253 - acc: 0.9930 - val_loss: 0.0938 - val_acc: 0.9822\n",
      "Epoch 12/20\n",
      " - 12s - loss: 0.0253 - acc: 0.9923 - val_loss: 0.0926 - val_acc: 0.9835\n",
      "Epoch 13/20\n",
      " - 13s - loss: 0.0238 - acc: 0.9933 - val_loss: 0.1037 - val_acc: 0.9811\n",
      "Epoch 14/20\n",
      " - 13s - loss: 0.0227 - acc: 0.9937 - val_loss: 0.1090 - val_acc: 0.9812\n",
      "Epoch 15/20\n",
      " - 14s - loss: 0.0210 - acc: 0.9942 - val_loss: 0.0981 - val_acc: 0.9822\n",
      "Epoch 16/20\n",
      " - 14s - loss: 0.0201 - acc: 0.9946 - val_loss: 0.1042 - val_acc: 0.9820\n",
      "Epoch 17/20\n",
      " - 13s - loss: 0.0189 - acc: 0.9948 - val_loss: 0.1037 - val_acc: 0.9841\n",
      "Epoch 18/20\n",
      " - 14s - loss: 0.0198 - acc: 0.9946 - val_loss: 0.1252 - val_acc: 0.9815\n",
      "Epoch 19/20\n",
      " - 14s - loss: 0.0178 - acc: 0.9957 - val_loss: 0.1110 - val_acc: 0.9830\n",
      "Epoch 20/20\n",
      " - 13s - loss: 0.0150 - acc: 0.9959 - val_loss: 0.1223 - val_acc: 0.9828\n",
      "Test score: 0.12228587112268828\n",
      "Test accuracy: 0.9828\n"
     ]
    }
   ],
   "source": [
    "import numpy as np\n",
    "np.random.seed(1337) # for reproducibility\n",
    "\n",
    "import os\n",
    "from keras.datasets import mnist\n",
    "from keras.models import Sequential\n",
    "from keras.layers.core import Dense, Dropout, Activation\n",
    "from keras.optimizers import RMSprop\n",
    "from keras.utils import np_utils\n",
    "\n",
    "batch_size = 128 #Number of images used in each optimization step\n",
    "nb_classes = 10 #One class per digit\n",
    "nb_epoch = 20 #Number of times the whole data is used to learn\n",
    "\n",
    "(X_train, y_train), (X_test, y_test) = mnist.load_data()\n",
    "\n",
    "#Flatten the data, MLP doesn't use the 2D structure of the data. 784 = 28*28\n",
    "X_train = X_train.reshape(60000, 784)\n",
    "X_test = X_test.reshape(10000, 784)\n",
    "\n",
    "#Make the value floats in [0;1] instead of int in [0;255]\n",
    "X_train = X_train.astype('float32')\n",
    "X_test = X_test.astype('float32')\n",
    "X_train /= 255\n",
    "X_test /= 255\n",
    "\n",
    "#Display the shapes to check if everything's ok\n",
    "print(X_train.shape[0], 'train samples')\n",
    "print(X_test.shape[0], 'test samples')\n",
    "\n",
    "# convert class vectors to binary class matrices (ie one-hot vectors)\n",
    "Y_train = np_utils.to_categorical(y_train, nb_classes)\n",
    "Y_test = np_utils.to_categorical(y_test, nb_classes)\n",
    "\n",
    "#Define the model achitecture\n",
    "model = Sequential()\n",
    "model.add(Dense(512, input_shape=(784,)))\n",
    "model.add(Activation('relu'))\n",
    "model.add(Dropout(0.2))\n",
    "model.add(Dense(512))\n",
    "model.add(Activation('relu'))\n",
    "model.add(Dropout(0.2))\n",
    "model.add(Dense(10)) #Last layer with one output per class\n",
    "model.add(Activation('softmax')) #We want a score simlar to a probability for each class\n",
    "\n",
    "#Use rmsprop to do the gradient descent see http://www.cs.toronto.edu/~tijmen/csc321/slides/lecture_slides_lec6.pdf\n",
    "#and http://cs231n.github.io/neural-networks-3/#ada\n",
    "rms = RMSprop()\n",
    "#The function to optimize is the cross entropy between the true label and the output (softmax) of the model\n",
    "model.compile(loss='categorical_crossentropy', optimizer=rms, metrics=[\"accuracy\"])\n",
    "\n",
    "#Make the model learn\n",
    "model.fit(X_train, Y_train,\n",
    "batch_size=batch_size, nb_epoch=nb_epoch,\n",
    "verbose=2,\n",
    "validation_data=(X_test, Y_test))\n",
    "\n",
    "#Evaluate how the model does on the test set\n",
    "score = model.evaluate(X_test, Y_test, verbose=0)\n",
    "\n",
    "print('Test score:', score[0])\n",
    "print('Test accuracy:', score[1])"
   ]
  },
  {
   "cell_type": "code",
   "execution_count": null,
   "metadata": {},
   "outputs": [],
   "source": []
  }
 ],
 "metadata": {
  "kernelspec": {
   "display_name": "Python 3",
   "language": "python",
   "name": "python3"
  },
  "language_info": {
   "codemirror_mode": {
    "name": "ipython",
    "version": 3
   },
   "file_extension": ".py",
   "mimetype": "text/x-python",
   "name": "python",
   "nbconvert_exporter": "python",
   "pygments_lexer": "ipython3",
   "version": "3.7.2"
  }
 },
 "nbformat": 4,
 "nbformat_minor": 2
}

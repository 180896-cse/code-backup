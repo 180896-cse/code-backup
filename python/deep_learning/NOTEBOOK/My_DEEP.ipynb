{
 "cells": [
  {
   "cell_type": "code",
   "execution_count": 1,
   "metadata": {},
   "outputs": [],
   "source": [
    "import tensorflow as tf"
   ]
  },
  {
   "cell_type": "code",
   "execution_count": 2,
   "metadata": {},
   "outputs": [],
   "source": [
    "hello = tf.constant('Hello! tensorflow!')"
   ]
  },
  {
   "cell_type": "code",
   "execution_count": 4,
   "metadata": {},
   "outputs": [],
   "source": [
    "sess=tf.Session()"
   ]
  },
  {
   "cell_type": "code",
   "execution_count": 5,
   "metadata": {},
   "outputs": [
    {
     "name": "stdout",
     "output_type": "stream",
     "text": [
      "Hello! tensorflow!\n"
     ]
    }
   ],
   "source": [
    "print sess.run(hello)"
   ]
  },
  {
   "cell_type": "code",
   "execution_count": 6,
   "metadata": {},
   "outputs": [],
   "source": [
    "# Basic constant operators\n",
    "a= tf.constant(2)\n",
    "b= tf.constant(3)"
   ]
  },
  {
   "cell_type": "code",
   "execution_count": 7,
   "metadata": {},
   "outputs": [
    {
     "name": "stdout",
     "output_type": "stream",
     "text": [
      "a : 2  b : 3\n",
      "Addition with constants : 5\n",
      "Multiplication with constants : 6\n"
     ]
    }
   ],
   "source": [
    "with tf.Session() as sess:\n",
    "    print \"a : %i \" % sess.run(a), \"b : %i\" % sess.run(b)\n",
    "    print \"Addition with constants : %i\" % sess.run(a+b)\n",
    "    print \"Multiplication with constants : %i\" %sess.run(a*b)"
   ]
  },
  {
   "cell_type": "code",
   "execution_count": 8,
   "metadata": {},
   "outputs": [],
   "source": [
    "# Basic operations with variable as graph input\n",
    "a = tf.placeholder(tf.int16)\n",
    "b = tf.placeholder(tf.int16)"
   ]
  },
  {
   "cell_type": "code",
   "execution_count": 9,
   "metadata": {},
   "outputs": [],
   "source": [
    "add = tf.add(a,b)\n",
    "mul = tf.multiply(a,b)"
   ]
  },
  {
   "cell_type": "code",
   "execution_count": 10,
   "metadata": {},
   "outputs": [
    {
     "name": "stdout",
     "output_type": "stream",
     "text": [
      "Addition with variables : 5\n",
      "Multiplication with variables : 6\n"
     ]
    }
   ],
   "source": [
    "# Launching the default graph\n",
    "with tf.Session() as sess:\n",
    "    # Run every operation with variable input\n",
    "    print \"Addition with variables : %i\" % sess.run(add, feed_dict={a: 2, b: 3})\n",
    "    print \"Multiplication with variables : %i\" % sess.run(mul,feed_dict={a: 2, b: 3})"
   ]
  },
  {
   "cell_type": "code",
   "execution_count": 15,
   "metadata": {},
   "outputs": [
    {
     "name": "stdout",
     "output_type": "stream",
     "text": [
      "42\n"
     ]
    }
   ],
   "source": [
    "# Test Test test\n",
    "\n",
    "c = tf.constant(6)\n",
    "d = tf.constant(7)\n",
    "with tf.Session() as sess:\n",
    "    print \"%i\" %sess.run(c*d)"
   ]
  },
  {
   "cell_type": "code",
   "execution_count": 25,
   "metadata": {},
   "outputs": [
    {
     "name": "stdout",
     "output_type": "stream",
     "text": [
      "[[ 5.  5.  7.  5.]\n",
      " [ 4.  4.  6.  4.]\n",
      " [ 4.  4.  6.  4.]\n",
      " [ 4.  4.  6.  4.]]\n"
     ]
    }
   ],
   "source": [
    "\n",
    "# Matrix multiplication using tensorflow\n",
    "\n",
    "matrix1 = tf.constant([[2.,1.,1.,1.],[1.,1.,1.,1.],[1.,1.,1.,1.],[1.,1.,1.,1.]])\n",
    "\n",
    "\n",
    "matrix2 = tf.constant([[1.,1.,1.,1.],[1.,1.,3.,1.],[1.,1.,1.,1.],[1.,1.,1.,1.]])\n",
    "\n",
    "product = tf.matmul(matrix1, matrix2)\n",
    "\n",
    "with tf.Session() as sess:\n",
    "    result = sess.run(product)\n",
    "    print result"
   ]
  },
  {
   "cell_type": "markdown",
   "metadata": {},
   "source": [
    "\n",
    "## Linear Regression"
   ]
  },
  {
   "cell_type": "code",
   "execution_count": 28,
   "metadata": {},
   "outputs": [],
   "source": [
    "import numpy\n",
    "import matplotlib.pyplot as plt\n",
    "rng = numpy.random"
   ]
  },
  {
   "cell_type": "code",
   "execution_count": 29,
   "metadata": {},
   "outputs": [],
   "source": [
    "# Parameters\n",
    "learning_rate = 0.01\n",
    "training_epochs = 1000\n",
    "display_step = 50"
   ]
  },
  {
   "cell_type": "code",
   "execution_count": 30,
   "metadata": {},
   "outputs": [],
   "source": [
    "# Training Data\n",
    "train_X = numpy.asarray([3.3,4.4,5.5,6.71,6.93,4.168,9.779,6.182,7.59,2.167,\n",
    "                         7.042,10.791,5.313,7.997,5.654,9.27,3.1])\n",
    "train_Y = numpy.asarray([1.7,2.76,2.09,3.19,1.694,1.573,3.366,2.596,2.53,1.221,\n",
    "                         2.827,3.465,1.65,2.904,2.42,2.94,1.3])\n",
    "n_samples = train_X.shape[0]"
   ]
  },
  {
   "cell_type": "code",
   "execution_count": 32,
   "metadata": {},
   "outputs": [],
   "source": [
    "# tf Graph Input\n",
    "X = tf.placeholder(\"float\")\n",
    "Y = tf.placeholder(\"float\")\n",
    "\n",
    "# Set model weights\n",
    "W = tf.Variable(rng.randn(),name=\"weight\")\n",
    "b = tf.Variable(rng.randn(), name=\"bias\")"
   ]
  },
  {
   "cell_type": "code",
   "execution_count": 33,
   "metadata": {},
   "outputs": [],
   "source": [
    "pred = tf.add(tf.multiply(X,W),b)"
   ]
  },
  {
   "cell_type": "code",
   "execution_count": 35,
   "metadata": {},
   "outputs": [],
   "source": [
    "cost = tf.reduce_sum(tf.pow(pred-Y,2))/(2*n_samples)\n",
    "optimizer = tf.train.GradientDescentOptimizer(learning_rate).minimize(cost)"
   ]
  },
  {
   "cell_type": "code",
   "execution_count": 36,
   "metadata": {},
   "outputs": [],
   "source": [
    "# Initialize the variables (i.e. assign their default value)\n",
    "init = tf.global_variables_initializer()"
   ]
  },
  {
   "cell_type": "code",
   "execution_count": 39,
   "metadata": {},
   "outputs": [
    {
     "name": "stdout",
     "output_type": "stream",
     "text": [
      "Epoch: 0050 cost= 0.190514207 W= 0.437989 b= -0.553835\n",
      "Epoch: 0100 cost= 0.177396372 W= 0.426784 b= -0.473228\n",
      "Epoch: 0150 cost= 0.165793598 W= 0.416246 b= -0.397416\n",
      "Epoch: 0200 cost= 0.155530766 W= 0.406334 b= -0.326113\n",
      "Epoch: 0250 cost= 0.146453157 W= 0.397012 b= -0.25905\n",
      "Epoch: 0300 cost= 0.138424039 W= 0.388244 b= -0.195976\n",
      "Epoch: 0350 cost= 0.131322324 W= 0.379998 b= -0.136654\n",
      "Epoch: 0400 cost= 0.125040904 W= 0.372242 b= -0.0808593\n",
      "Epoch: 0450 cost= 0.119485080 W= 0.364948 b= -0.0283832\n",
      "Epoch: 0500 cost= 0.114571117 W= 0.358087 b= 0.0209719\n",
      "Epoch: 0550 cost= 0.110224813 W= 0.351634 b= 0.0673917\n",
      "Epoch: 0600 cost= 0.106380664 W= 0.345566 b= 0.111051\n",
      "Epoch: 0650 cost= 0.102980696 W= 0.339858 b= 0.152113\n",
      "Epoch: 0700 cost= 0.099973619 W= 0.334489 b= 0.190733\n",
      "Epoch: 0750 cost= 0.097314022 W= 0.32944 b= 0.227056\n",
      "Epoch: 0800 cost= 0.094961822 W= 0.324691 b= 0.261219\n",
      "Epoch: 0850 cost= 0.092881501 W= 0.320225 b= 0.29335\n",
      "Epoch: 0900 cost= 0.091041602 W= 0.316024 b= 0.32357\n",
      "Epoch: 0950 cost= 0.089414448 W= 0.312073 b= 0.351993\n",
      "Epoch: 1000 cost= 0.087975383 W= 0.308357 b= 0.378725\n",
      "Optimization Finished!\n",
      "Training cost= 0.0879754 W= 0.308357 b= 0.378725 \n",
      "\n"
     ]
    },
    {
     "data": {
      "image/png": "[encoded data removed]",
      "text/plain": [
       "<matplotlib.figure.Figure at 0x7f7bdbcce510>"
      ]
     },
     "metadata": {},
     "output_type": "display_data"
    }
   ],
   "source": [
    "# Start training\n",
    "with tf.Session() as sess:\n",
    "    sess.run(init)\n",
    "\n",
    "    # Fit all training data\n",
    "    for epoch in range(training_epochs):\n",
    "        for (x, y) in zip(train_X, train_Y):\n",
    "            sess.run(optimizer, feed_dict={X: x, Y: y})\n",
    "\n",
    "        #Display logs per epoch step\n",
    "        if (epoch+1) % display_step == 0:\n",
    "            c = sess.run(cost, feed_dict={X: train_X, Y:train_Y})\n",
    "            print \"Epoch:\", '%04d' % (epoch+1), \"cost=\", \"{:.9f}\".format(c), \\\n",
    "                \"W=\", sess.run(W), \"b=\", sess.run(b)\n",
    "\n",
    "    print \"Optimization Finished!\"\n",
    "    training_cost = sess.run(cost, feed_dict={X: train_X, Y: train_Y})\n",
    "    print \"Training cost=\", training_cost, \"W=\", sess.run(W), \"b=\", sess.run(b), '\\n'\n",
    "\n",
    "    #Graphic display\n",
    "    plt.plot(train_X, train_Y, 'ro', label='Original data')\n",
    "    plt.plot(train_X, sess.run(W) * train_X + sess.run(b), label='Fitted line')\n",
    "    plt.legend()\n",
    "    plt.show()"
   ]
  },
  {
   "cell_type": "code",
   "execution_count": null,
   "metadata": {},
   "outputs": [],
   "source": []
  }
 ],
 "metadata": {
  "kernelspec": {
   "display_name": "Python 3",
   "language": "python",
   "name": "python3"
  },
  "language_info": {
   "codemirror_mode": {
    "name": "ipython",
    "version": 2
   },
   "file_extension": ".py",
   "mimetype": "text/x-python",
   "name": "python",
   "nbconvert_exporter": "python",
   "pygments_lexer": "ipython2",
   "version": "2.7.14"
  }
 },
 "nbformat": 4,
 "nbformat_minor": 2
}
